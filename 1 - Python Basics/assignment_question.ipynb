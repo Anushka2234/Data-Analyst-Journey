{
 "cells": [
  {
   "cell_type": "markdown",
   "metadata": {},
   "source": [
    "# Lesson 1.2: Python Basics\n",
    "## Topics Covered:\n",
    "- Syntax and Semantics\n",
    "- Variables and Data Types\n",
    "- Basic Operators (Arithmetic, Comparison, Logical)\n"
   ]
  },
  {
   "cell_type": "markdown",
   "metadata": {},
   "source": [
    "## 1. Syntax and Semantics\n",
    "\n",
    "**Question 1:** Write a Python program to print \"Hello, World!\"."
   ]
  },
  {
   "cell_type": "code",
   "execution_count": 1,
   "metadata": {},
   "outputs": [
    {
     "name": "stdout",
     "output_type": "stream",
     "text": [
      "Hello World\n"
     ]
    }
   ],
   "source": [
    "# Your code here\n",
    "print(\"Hello World\")"
   ]
  },
  {
   "cell_type": "markdown",
   "metadata": {},
   "source": [
    "**Question 2:** Write a Python program that takes a user input and prints it."
   ]
  },
  {
   "cell_type": "code",
   "execution_count": 2,
   "metadata": {},
   "outputs": [
    {
     "name": "stdout",
     "output_type": "stream",
     "text": [
      "10\n"
     ]
    }
   ],
   "source": [
    "# Your code here\n",
    "a = int(input(\"Enter the Number\"))\n",
    "print(a)"
   ]
  },
  {
   "cell_type": "markdown",
   "metadata": {},
   "source": [
    "**Question 3:** Write a Python program to check if a number is positive, negative, or zero."
   ]
  },
  {
   "cell_type": "code",
   "execution_count": 4,
   "metadata": {},
   "outputs": [
    {
     "name": "stdout",
     "output_type": "stream",
     "text": [
      "Number is Negative\n"
     ]
    }
   ],
   "source": [
    "# Your code here\n",
    "num = int(input(\"Enter the Number\"))\n",
    "if num > 0:\n",
    "    print(\"Number is Positive\")\n",
    "elif num < 0 :\n",
    "    print(\"Number is Negative\")\n",
    "else:\n",
    "    print(\"Number is Zero\")"
   ]
  },
  {
   "cell_type": "markdown",
   "metadata": {},
   "source": [
    "**Question 4:** Write a Python program to find the largest of three numbers."
   ]
  },
  {
   "cell_type": "code",
   "execution_count": 5,
   "metadata": {},
   "outputs": [
    {
     "name": "stdout",
     "output_type": "stream",
     "text": [
      "30\n"
     ]
    }
   ],
   "source": [
    "# Your code here\n",
    "a = int(input(\"First Number\"))\n",
    "b = int(input(\"Second Number\"))\n",
    "c = int(input(\"Third Number\"))\n",
    "if a>b and a>c:\n",
    "    print(a)\n",
    "elif b>a and b>c:\n",
    "    print(b)\n",
    "else:\n",
    "    print(c)"
   ]
  },
  {
   "cell_type": "markdown",
   "metadata": {},
   "source": [
    "**Question 5:** Write a Python program to calculate the factorial of a number."
   ]
  },
  {
   "cell_type": "code",
   "execution_count": 7,
   "metadata": {},
   "outputs": [
    {
     "name": "stdout",
     "output_type": "stream",
     "text": [
      "24\n"
     ]
    }
   ],
   "source": [
    "# Your code here\n",
    "n = int(input(\"Enter the Number\"))\n",
    "result = 1\n",
    "while (n>=1):\n",
    "    result*=n\n",
    "    n = n-1\n",
    "print(result)"
   ]
  },
  {
   "cell_type": "code",
   "execution_count": 23,
   "metadata": {},
   "outputs": [
    {
     "data": {
      "text/plain": [
       "120"
      ]
     },
     "execution_count": 23,
     "metadata": {},
     "output_type": "execute_result"
    }
   ],
   "source": [
    "def factorial(n):\n",
    "    result = 1\n",
    "    for i in range(1,n+1):\n",
    "        result*=i\n",
    "    return result\n",
    "\n",
    "factorial(5)"
   ]
  },
  {
   "cell_type": "markdown",
   "metadata": {},
   "source": [
    "## 2. Variables and Data Types\n",
    "\n",
    "**Question 6:** Create variables of different data types: integer, float, string, and boolean. Print their values and types."
   ]
  },
  {
   "cell_type": "code",
   "execution_count": 24,
   "metadata": {},
   "outputs": [
    {
     "name": "stdout",
     "output_type": "stream",
     "text": [
      "7 <class 'int'>\n",
      "7.5 <class 'float'>\n",
      "Anushka <class 'str'>\n",
      "True <class 'bool'>\n"
     ]
    }
   ],
   "source": [
    "# Your code here\n",
    "a = 7\n",
    "b = 7.5\n",
    "c = \"Anushka\"\n",
    "d = True\n",
    "\n",
    "print(a, type(a))\n",
    "print(b, type(b))\n",
    "print(c, type(c))\n",
    "print(d, type(d))"
   ]
  },
  {
   "cell_type": "markdown",
   "metadata": {},
   "source": [
    "**Question 7:** Write a Python program to swap the values of two variables."
   ]
  },
  {
   "cell_type": "code",
   "execution_count": 32,
   "metadata": {},
   "outputs": [
    {
     "data": {
      "text/plain": [
       "(8, 10)"
      ]
     },
     "execution_count": 32,
     "metadata": {},
     "output_type": "execute_result"
    }
   ],
   "source": [
    "# Your code here\n",
    "def swap(a,b):\n",
    "    temp = a\n",
    "    a = b\n",
    "    b = temp\n",
    "    return a,b\n",
    "swap(10,8)"
   ]
  },
  {
   "cell_type": "markdown",
   "metadata": {},
   "source": [
    "**Question 8:** Write a Python program to convert Celsius to Fahrenheit."
   ]
  },
  {
   "cell_type": "code",
   "execution_count": 33,
   "metadata": {},
   "outputs": [
    {
     "name": "stdout",
     "output_type": "stream",
     "text": [
      "206.6\n"
     ]
    }
   ],
   "source": [
    "# Your code here\n",
    "temp_c = int(input(\"Enter the temperature in celsius\"))\n",
    "temp_f = (9/5*temp_c)+32\n",
    "print(temp_f) "
   ]
  },
  {
   "cell_type": "markdown",
   "metadata": {},
   "source": [
    "**Question 9:** Write a Python program to concatenate two strings."
   ]
  },
  {
   "cell_type": "code",
   "execution_count": 36,
   "metadata": {},
   "outputs": [
    {
     "name": "stdout",
     "output_type": "stream",
     "text": [
      "Anushka Srivastava\n"
     ]
    }
   ],
   "source": [
    "# Your code here\n",
    "a = \"Anushka\"\n",
    "b = \" Srivastava\"\n",
    "print(a + b)"
   ]
  },
  {
   "cell_type": "markdown",
   "metadata": {},
   "source": [
    "**Question 10:** Write a Python program to check if a variable is of a specific data type."
   ]
  },
  {
   "cell_type": "code",
   "execution_count": 37,
   "metadata": {},
   "outputs": [
    {
     "name": "stdout",
     "output_type": "stream",
     "text": [
      "<class 'str'>\n"
     ]
    }
   ],
   "source": [
    "# Your code here\n",
    "a = \"Anushka\"\n",
    "print(type(a))"
   ]
  },
  {
   "cell_type": "code",
   "execution_count": 39,
   "metadata": {},
   "outputs": [
    {
     "name": "stdout",
     "output_type": "stream",
     "text": [
      "As String 25 <class 'str'>\n",
      "As Integer 25 <class 'int'>\n",
      "As Float 25.0 <class 'float'>\n",
      "As Boolean True <class 'bool'>\n"
     ]
    }
   ],
   "source": [
    "x = 25\n",
    "print(\"As String\",str(x), type(str(x)))\n",
    "print(\"As Integer\",int(x),type(int(x)))\n",
    "print(\"As Float\",float(x),type(float(x)))\n",
    "print(\"As Boolean\",bool(x),type(bool(x)))"
   ]
  },
  {
   "cell_type": "markdown",
   "metadata": {},
   "source": [
    "## 3. Basic Operators (Arithmetic, Comparison, Logical)\n",
    "\n",
    "**Question 11:** Write a Python program to perform arithmetic operations: addition, subtraction, multiplication, and division."
   ]
  },
  {
   "cell_type": "code",
   "execution_count": 40,
   "metadata": {},
   "outputs": [
    {
     "name": "stdout",
     "output_type": "stream",
     "text": [
      "15\n",
      "5\n",
      "50\n",
      "2.0\n"
     ]
    }
   ],
   "source": [
    "# Your code here\n",
    "a = int(input(\"Enter First Number\"))\n",
    "b = int(input(\"Enter Second Number\"))\n",
    "add = a+b\n",
    "sub = a-b\n",
    "mul = a*b\n",
    "div = a/b\n",
    "print(add)\n",
    "print(sub)\n",
    "print(mul)\n",
    "print(div)"
   ]
  },
  {
   "cell_type": "markdown",
   "metadata": {},
   "source": [
    "**Question 12:** Write a Python program to demonstrate comparison operators: equal to, not equal to, greater than, less than."
   ]
  },
  {
   "cell_type": "code",
   "execution_count": 42,
   "metadata": {},
   "outputs": [
    {
     "name": "stdout",
     "output_type": "stream",
     "text": [
      "equal to\n"
     ]
    }
   ],
   "source": [
    "# Your code here\n",
    "a = int(input(\"Enter a\"))\n",
    "b = int(input(\"Enter b\"))\n",
    "\n",
    "if a == b:\n",
    "    print(\"equal to\")\n",
    "elif a != b:\n",
    "    print(\"Not equal to\")\n",
    "elif a > b:\n",
    "    print(\"Greater than\")\n",
    "elif a < b:\n",
    "    print(\"less than\")\n",
    "else:\n",
    "    print(\"Nothing\")"
   ]
  },
  {
   "cell_type": "markdown",
   "metadata": {},
   "source": [
    "**Question 13:** Write a Python program to demonstrate logical operators: and, or, not."
   ]
  },
  {
   "cell_type": "code",
   "execution_count": null,
   "metadata": {},
   "outputs": [
    {
     "name": "stdout",
     "output_type": "stream",
     "text": [
      "True\n"
     ]
    }
   ],
   "source": [
    "# Your code here\n",
    "#and\n",
    "a = True\n",
    "b = True\n",
    "result = a and b\n",
    "print(result)"
   ]
  },
  {
   "cell_type": "code",
   "execution_count": 44,
   "metadata": {},
   "outputs": [
    {
     "name": "stdout",
     "output_type": "stream",
     "text": [
      "True\n"
     ]
    }
   ],
   "source": [
    "#or\n",
    "a = True\n",
    "b = False\n",
    "result = a or b\n",
    "print(result)"
   ]
  },
  {
   "cell_type": "code",
   "execution_count": 45,
   "metadata": {},
   "outputs": [
    {
     "name": "stdout",
     "output_type": "stream",
     "text": [
      "False\n"
     ]
    }
   ],
   "source": [
    "#Not\n",
    "a = True\n",
    "b = False\n",
    "result = not a\n",
    "print(result)"
   ]
  },
  {
   "cell_type": "markdown",
   "metadata": {},
   "source": [
    "**Question 14:** Write a Python program to calculate the square of a number."
   ]
  },
  {
   "cell_type": "code",
   "execution_count": 47,
   "metadata": {},
   "outputs": [
    {
     "name": "stdout",
     "output_type": "stream",
     "text": [
      "25\n"
     ]
    }
   ],
   "source": [
    "# Your code here\n",
    "n = int(input(\"Enter the Number\"))\n",
    "result = n**2\n",
    "print(result)"
   ]
  },
  {
   "cell_type": "markdown",
   "metadata": {},
   "source": [
    "**Question 15:** Write a Python program to check if a number is even or odd."
   ]
  },
  {
   "cell_type": "code",
   "execution_count": 48,
   "metadata": {},
   "outputs": [
    {
     "data": {
      "text/plain": [
       "'even'"
      ]
     },
     "execution_count": 48,
     "metadata": {},
     "output_type": "execute_result"
    }
   ],
   "source": [
    "# Your code here\n",
    "def even_odd(n):\n",
    "    if n%2 == 0:\n",
    "        return \"even\"\n",
    "    else:\n",
    "        return \"odd\"\n",
    "\n",
    "even_odd(4)\n",
    "\n"
   ]
  },
  {
   "cell_type": "markdown",
   "metadata": {},
   "source": [
    "**Question 16:** Write a Python program to find the sum of the first n natural numbers."
   ]
  },
  {
   "cell_type": "code",
   "execution_count": 49,
   "metadata": {},
   "outputs": [
    {
     "name": "stdout",
     "output_type": "stream",
     "text": [
      "15\n"
     ]
    }
   ],
   "source": [
    "# Your code here\n",
    "n = int(input(\"Enter Number\"))\n",
    "result = 0\n",
    "for i in range(1,n+1):\n",
    "    result+=i\n",
    "print(result)\n"
   ]
  },
  {
   "cell_type": "markdown",
   "metadata": {},
   "source": [
    "**Question 17:** Write a Python program to check if a year is a leap year."
   ]
  },
  {
   "cell_type": "code",
   "execution_count": 52,
   "metadata": {},
   "outputs": [
    {
     "name": "stdout",
     "output_type": "stream",
     "text": [
      "2012 is a leap year\n"
     ]
    }
   ],
   "source": [
    "# Your code here\n",
    "year = int(input(\"Enter the number\"))\n",
    "if (year % 4) == 0:\n",
    "    if(year % 100) == 0:\n",
    "        if(year % 400) == 0:\n",
    "            print(year, \"is a leap year\")\n",
    "        else:\n",
    "            print(year,\"is not a leap year\")\n",
    "    else:\n",
    "        print(year,\"is a leap year\")\n",
    "else:\n",
    "    print(year,\"is not a leap year\")"
   ]
  },
  {
   "cell_type": "markdown",
   "metadata": {},
   "source": [
    "**Question 18:** Write a Python program to reverse a string."
   ]
  },
  {
   "cell_type": "code",
   "execution_count": 56,
   "metadata": {},
   "outputs": [
    {
     "name": "stdout",
     "output_type": "stream",
     "text": [
      "unA\n"
     ]
    }
   ],
   "source": [
    "# Your code here\n",
    "input_str = input(\"Enter the String\")\n",
    "reversed_str = ''.join(reversed(input_str))\n",
    "print(reversed_str)"
   ]
  },
  {
   "cell_type": "markdown",
   "metadata": {},
   "source": [
    "**Question 19:** Write a Python program to check if a string is a palindrome."
   ]
  },
  {
   "cell_type": "code",
   "execution_count": 59,
   "metadata": {},
   "outputs": [
    {
     "name": "stdout",
     "output_type": "stream",
     "text": [
      "Not Palindrome\n"
     ]
    }
   ],
   "source": [
    "# Your code here\n",
    "string_name = input(\"Enter the string\")\n",
    "if string_name == string_name[::-1]:\n",
    "    print(\"Palindrome\")\n",
    "else:\n",
    "    print(\"Not Palindrome\")"
   ]
  },
  {
   "cell_type": "markdown",
   "metadata": {},
   "source": [
    "**Question 20:** Write a Python program to sort a list of numbers in ascending order."
   ]
  },
  {
   "cell_type": "code",
   "execution_count": 60,
   "metadata": {},
   "outputs": [
    {
     "name": "stdout",
     "output_type": "stream",
     "text": [
      "[1, 2, 3, 4, 5, 6]\n"
     ]
    }
   ],
   "source": [
    "# Your code here\n",
    "lst = [5,4,1,3,2,6]\n",
    "new_lst = sorted(lst)\n",
    "print(new_lst)"
   ]
  },
  {
   "cell_type": "code",
   "execution_count": 61,
   "metadata": {},
   "outputs": [
    {
     "name": "stdout",
     "output_type": "stream",
     "text": [
      "Ascending: [1, 2, 5, 7, 9]\n",
      "Descending: [9, 7, 5, 2, 1]\n"
     ]
    }
   ],
   "source": [
    "numbers = [5, 2, 9, 1, 7]\n",
    "\n",
    "# Sort in ascending order\n",
    "numbers.sort()\n",
    "print(\"Ascending:\", numbers)\n",
    "\n",
    "# Sort in descending order\n",
    "numbers.sort(reverse=True)\n",
    "print(\"Descending:\", numbers)"
   ]
  }
 ],
 "metadata": {
  "kernelspec": {
   "display_name": "Python 3",
   "language": "python",
   "name": "python3"
  },
  "language_info": {
   "codemirror_mode": {
    "name": "ipython",
    "version": 3
   },
   "file_extension": ".py",
   "mimetype": "text/x-python",
   "name": "python",
   "nbconvert_exporter": "python",
   "pygments_lexer": "ipython3",
   "version": "3.12.0"
  }
 },
 "nbformat": 4,
 "nbformat_minor": 4
}
