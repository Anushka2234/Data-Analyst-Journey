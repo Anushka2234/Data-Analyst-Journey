{
 "cells": [
  {
   "cell_type": "markdown",
   "metadata": {},
   "source": [
    "# Module 3: Data Structures Assignments\n",
    "## Lesson 3.1: Lists\n",
    "### Assignment 1: Creating and Accessing Lists\n",
    "\n",
    "Create a list of the first 20 positive integers. Print the list.\n",
    "\n",
    "### Assignment 2: Accessing List Elements\n",
    "\n",
    "Print the first, middle, and last elements of the list created in Assignment 1.\n",
    "\n",
    "### Assignment 3: List Slicing\n",
    "\n",
    "Print the first five elements, the last five elements, and the elements from index 5 to 15 of the list created in Assignment 1.\n",
    "\n",
    "### Assignment 4: List Comprehensions\n",
    "\n",
    "Create a new list containing the squares of the first 10 positive integers using a list comprehension. Print the new list.\n",
    "\n",
    "### Assignment 5: Filtering Lists\n",
    "\n",
    "Create a new list containing only the even numbers from the list created in Assignment 1 using a list comprehension. Print the new list.\n",
    "\n",
    "### Assignment 6: List Methods\n",
    "\n",
    "Create a list of random numbers and sort it in ascending and descending order. Remove the duplicates from the list and print the modified list.\n",
    "\n",
    "### Assignment 7: Nested Lists\n",
    "\n",
    "Create a nested list representing a 3x3 matrix and print the matrix. Access and print the element at the second row and third column.\n",
    "\n",
    "### Assignment 8: List of Dictionaries\n",
    "\n",
    "Create a list of dictionaries where each dictionary represents a student with keys 'name' and 'score'. Sort the list of dictionaries by the 'score' in descending order and print the sorted list.\n",
    "\n",
    "### Assignment 9: Matrix Transposition\n",
    "\n",
    "Write a function that takes a 3x3 matrix (nested list) as input and returns its transpose. Print the original and transposed matrices.\n",
    "\n",
    "### Assignment 10: Flattening a Nested List\n",
    "\n",
    "Write a function that takes a nested list and flattens it into a single list. Print the original and flattened lists.\n",
    "\n",
    "### Assignment 11: List Manipulation\n",
    "\n",
    "Create a list of the first 10 positive integers. Remove the elements at indices 2, 4, and 6, and insert the element '99' at index 5. Print the modified list.\n",
    "\n",
    "### Assignment 12: List Zipping\n",
    "\n",
    "Create two lists of the same length. Use the `zip` function to combine these lists into a list of tuples and print the result.\n",
    "\n",
    "### Assignment 13: List Reversal\n",
    "\n",
    "Write a function that takes a list and returns a new list with the elements in reverse order. Print the original and reversed lists.\n",
    "\n",
    "### Assignment 14: List Rotation\n",
    "\n",
    "Write a function that rotates a list by n positions. Print the original and rotated lists.\n",
    "\n",
    "### Assignment 15: List Intersection\n",
    "\n",
    "Write a function that takes two lists and returns a new list containing only the elements that are present in both lists. Print the intersected list."
   ]
  },
  {
   "cell_type": "code",
   "execution_count": 1,
   "metadata": {},
   "outputs": [
    {
     "name": "stdout",
     "output_type": "stream",
     "text": [
      "[0, 1, 2, 3, 4, 5, 6, 7, 8, 9, 10, 11, 12, 13, 14, 15, 16, 17, 18, 19, 20]\n"
     ]
    }
   ],
   "source": [
    "# Assignment 1: Creating and Accessing Lists\n",
    "\n",
    "# Create a list of the first 20 positive integers. Print the list.\n",
    "lst = []\n",
    "for i in range(21):\n",
    "    lst.append(i)\n",
    "    \n",
    "print(lst)"
   ]
  },
  {
   "cell_type": "code",
   "execution_count": 3,
   "id": "42f71afd",
   "metadata": {},
   "outputs": [
    {
     "name": "stdout",
     "output_type": "stream",
     "text": [
      "[0, 10, 20]\n"
     ]
    }
   ],
   "source": [
    "# Assignment 2: Accessing List Elements\n",
    "\n",
    "# Print the first, middle, and last elements of the list created in Assignment 1.\n",
    "print(lst[0::10])"
   ]
  },
  {
   "cell_type": "code",
   "execution_count": 6,
   "id": "ebf534b4",
   "metadata": {},
   "outputs": [
    {
     "name": "stdout",
     "output_type": "stream",
     "text": [
      "[0, 1, 2, 3, 4, 5]\n",
      "[15, 16, 17, 18, 19, 20]\n",
      "[5, 6, 7, 8, 9, 10, 11, 12, 13, 14, 15]\n"
     ]
    }
   ],
   "source": [
    "### Assignment 3: List Slicing\n",
    "\n",
    "# Print the first five elements, the last five elements, and the elements from index 5 to 15 of the list created in Assignment 1\n",
    "print(lst[:6])\n",
    "print(lst[-6:])\n",
    "print(lst[5:16])"
   ]
  },
  {
   "cell_type": "code",
   "execution_count": 8,
   "id": "c8641e10",
   "metadata": {},
   "outputs": [
    {
     "name": "stdout",
     "output_type": "stream",
     "text": [
      "[0, 1, 4, 9, 16, 25, 36, 49, 64, 81, 100]\n"
     ]
    }
   ],
   "source": [
    "### Assignment 4: List Comprehensions\n",
    "\n",
    "# Create a new list containing the squares of the first 10 positive integers using a list comprehension. Print the new list.\n",
    "lst=[x**2 for x in range(11)]\n",
    "print(lst)"
   ]
  },
  {
   "cell_type": "code",
   "execution_count": 9,
   "id": "728bd076",
   "metadata": {},
   "outputs": [
    {
     "name": "stdout",
     "output_type": "stream",
     "text": [
      "[0, 2, 4, 6, 8, 10, 12, 14, 16, 18, 20]\n"
     ]
    }
   ],
   "source": [
    "### Assignment 5: Filtering Lists\n",
    "\n",
    "# Create a new list containing only the even numbers from the list created in Assignment 1 using a list comprehension. Print the new list.\n",
    "even_lst = [x for x in range(21) if x%2==0]\n",
    "print(even_lst)"
   ]
  },
  {
   "cell_type": "code",
   "execution_count": 19,
   "id": "3f0caf30",
   "metadata": {},
   "outputs": [
    {
     "name": "stdout",
     "output_type": "stream",
     "text": [
      "[20, 2, 9, 6, 14, 7, 4, 10, 16, 10]\n",
      "[2, 4, 6, 7, 9, 10, 10, 14, 16, 20]\n",
      "[20, 16, 14, 10, 10, 9, 7, 6, 4, 2]\n"
     ]
    }
   ],
   "source": [
    "### Assignment 6: List Methods\n",
    "\n",
    "#Create a list of random numbers and sort it in ascending and descending order. Remove the duplicates from the list and print the modified list.\n",
    "\n",
    "import random\n",
    "lst = [random.randint(1,20) for i in range(10)]\n",
    "print(lst)\n",
    "\n",
    "lst.sort()\n",
    "print(lst)\n",
    "lst.reverse()\n",
    "print(lst)\n"
   ]
  },
  {
   "cell_type": "code",
   "execution_count": 24,
   "id": "da289cba",
   "metadata": {},
   "outputs": [
    {
     "name": "stdout",
     "output_type": "stream",
     "text": [
      "3*3 Matrix\n",
      "[9, 5, 5]\n",
      "[7, 6, 6]\n",
      "[4, 3, 10]\n",
      "For Assesing Element\n",
      "6\n"
     ]
    }
   ],
   "source": [
    "### Assignment 7: Nested Lists\n",
    "\n",
    "#Create a nested list representing a 3x3 matrix and print the matrix. Access and print the element at the second row and third column.\n",
    "matrix = [[random.randint(1,10) for j in range(3)] for i in range(3)]\n",
    "\n",
    "print(\"3*3 Matrix\")\n",
    "for row in matrix:\n",
    "    print(row)\n",
    "\n",
    "print(\"For Assesing Element\")\n",
    "print(matrix[1][2])\n"
   ]
  },
  {
   "cell_type": "code",
   "execution_count": 31,
   "id": "d1c933b0",
   "metadata": {},
   "outputs": [
    {
     "name": "stdout",
     "output_type": "stream",
     "text": [
      "{'Name': 'Ranu', 'Score': 85}\n",
      "{'Name': 'Anu', 'Score': 70}\n",
      "{'Name': 'Kanu', 'Score': 60}\n",
      "{'Name': 'Vanu', 'Score': 40}\n"
     ]
    }
   ],
   "source": [
    "### Assignment 8: List of Dictionaries\n",
    "\n",
    "#Create a list of dictionaries where each dictionary represents a student with keys 'name' and 'score'. \n",
    "# Sort the list of dictionaries by the 'score' in descending order and print the sorted list\n",
    "\n",
    "students = [\n",
    "    {\"Name\":\"Anu\",\"Score\":70},\n",
    "    {\"Name\":\"Kanu\",\"Score\":60},\n",
    "    {\"Name\":\"Ranu\",\"Score\":85},\n",
    "    {\"Name\":\"Vanu\",\"Score\":40}            \n",
    "]\n",
    "students.sort(key= lambda x:x[\"Score\"],reverse=True)\n",
    "for s in students:\n",
    "    print(s)"
   ]
  },
  {
   "cell_type": "code",
   "execution_count": 34,
   "id": "89f7c194",
   "metadata": {},
   "outputs": [
    {
     "name": "stdout",
     "output_type": "stream",
     "text": [
      "Printing Original Matrix\n",
      "[8, 6, 4]\n",
      "[3, 10, 1]\n",
      "[4, 9, 8]\n",
      "Printing Transpose of Matrix\n",
      "[8, 3, 4]\n",
      "[6, 10, 9]\n",
      "[4, 1, 8]\n"
     ]
    }
   ],
   "source": [
    "### Assignment 9: Matrix Transposition\n",
    "\n",
    "#Write a function that takes a 3x3 matrix (nested list) as input and returns its transpose. Print the original and transposed matrices.\n",
    "\n",
    "Matrix = [[random.randint(1,10) for j in range(3)]for i in range(3)]\n",
    "\n",
    "print(\"Printing Original Matrix\")\n",
    "for row in Matrix:\n",
    "    print(row)\n",
    "\n",
    "Trans_Matrix = [[Matrix[j][i] for j in range(3)]for i in range(3)]\n",
    "print(\"Printing Transpose of Matrix\")\n",
    "for row in Trans_Matrix:\n",
    "    print(row)"
   ]
  },
  {
   "cell_type": "code",
   "execution_count": 36,
   "id": "fc57a0ad",
   "metadata": {},
   "outputs": [
    {
     "data": {
      "text/plain": [
       "[1, 2, 3, 4, 5, 6, 7, 8, 9]"
      ]
     },
     "execution_count": 36,
     "metadata": {},
     "output_type": "execute_result"
    }
   ],
   "source": [
    "### Assignment 10: Flattening a Nested List\n",
    "\n",
    "#Write a function that takes a nested list and flattens it into a single list. Print the original and flattened lists.\n",
    "\n",
    "\n",
    "def flatten_list(nested_list):\n",
    "    flattened_list = []\n",
    "    for item in nested_list:\n",
    "        if isinstance(item,list):\n",
    "            flattened_list.extend(flatten_list(item))\n",
    "        else:\n",
    "            flattened_list.append(item)\n",
    "    return flattened_list\n",
    "\n",
    "lst=[1,2,[3,4,5],6,[7,8],9]\n",
    "flatten_list(lst)"
   ]
  },
  {
   "cell_type": "code",
   "execution_count": 37,
   "id": "ef439f2f",
   "metadata": {},
   "outputs": [
    {
     "data": {
      "text/plain": [
       "[1, 2, 3, 4, 5, 6, 7, 8, 9]"
      ]
     },
     "execution_count": 37,
     "metadata": {},
     "output_type": "execute_result"
    }
   ],
   "source": [
    "def flatten_list(nested_list):\n",
    "    flattened_list = []\n",
    "    for item in nested_list:\n",
    "        if isinstance(item,list):\n",
    "            flattened_list.extend(flatten_list(item))\n",
    "        else:\n",
    "            flattened_list.append(item)\n",
    "    return flattened_list\n",
    "lst = [1,2,[3,4,5],6,[7,8],9]\n",
    "flatten_list(lst)"
   ]
  },
  {
   "cell_type": "code",
   "execution_count": 38,
   "id": "32e602ba",
   "metadata": {},
   "outputs": [
    {
     "name": "stdout",
     "output_type": "stream",
     "text": [
      "[5, 4, 3, 2, 1]\n"
     ]
    }
   ],
   "source": [
    "### Assignment 13: List Reversal\n",
    "\n",
    "#Write a function that takes a list and returns a new list with the elements in reverse order. Print the original and reversed lists.\n",
    "lst = [1,2,3,4,5]\n",
    "new_lst = lst[::-1]\n",
    "print(new_lst)\n",
    "\n"
   ]
  },
  {
   "cell_type": "code",
   "execution_count": 45,
   "id": "22a33005",
   "metadata": {},
   "outputs": [
    {
     "name": "stdout",
     "output_type": "stream",
     "text": [
      "[0, 1, 2, 3, 4, 5, 6, 7, 8, 9, 10]\n",
      "[0, 1, 3, 4, 6, 99, 7, 9, 10]\n"
     ]
    }
   ],
   "source": [
    "### Assignment 11: List Manipulation\n",
    "\n",
    "#Create a list of the first 10 positive integers. Remove the elements at indices 2, 4, and 6, and insert the element '99' at index 5. Print the modified list.\n",
    "lst=[]\n",
    "for i in range(11):\n",
    "    lst.append(i)\n",
    "print(lst)\n",
    "del lst[2]\n",
    "del lst[4]\n",
    "del lst[6]\n",
    "\n",
    "lst.insert(5,99)\n",
    "print(lst)"
   ]
  },
  {
   "cell_type": "code",
   "execution_count": 47,
   "id": "31537bcd",
   "metadata": {},
   "outputs": [
    {
     "name": "stdout",
     "output_type": "stream",
     "text": [
      "[(1, 'apple'), (2, 'banana'), (3, 'Orange')]\n"
     ]
    }
   ],
   "source": [
    "### Assignment 12: List Zipping\n",
    "\n",
    "#Create two lists of the same length. Use the `zip` function to combine these lists into a list of tuples and print the result.\n",
    "lst1=[1,2,3]\n",
    "lst2=[\"apple\",\"banana\",\"Orange\"]\n",
    "lst3= list(zip(lst1,lst2))\n",
    "print(lst3)"
   ]
  },
  {
   "cell_type": "code",
   "execution_count": null,
   "id": "e97d6cdc",
   "metadata": {},
   "outputs": [
    {
     "data": {
      "text/plain": [
       "['Manu', 'Tanu', 'Kanu', 'Anu']"
      ]
     },
     "execution_count": 48,
     "metadata": {},
     "output_type": "execute_result"
    }
   ],
   "source": [
    "### Assignment 13: List Reversal\n",
    "\n",
    "#Write a function that takes a list and returns a new list with the elements in reverse order. Print the original and reversed lists.\n",
    "def rev_list(org_list):\n",
    "    reverse_lst = org_list[::-1]\n",
    "    return reverse_lst\n",
    "\n",
    "org_lst = [\"Anu\",\"Kanu\",\"Tanu\",\"Manu\"]\n",
    "rev_list(org_lst)"
   ]
  },
  {
   "cell_type": "code",
   "execution_count": 53,
   "id": "1d65663a",
   "metadata": {},
   "outputs": [
    {
     "data": {
      "text/plain": [
       "[60, 70, 80, 10, 20, 30, 40, 50]"
      ]
     },
     "execution_count": 53,
     "metadata": {},
     "output_type": "execute_result"
    }
   ],
   "source": [
    "### Assignment 14: List Rotation\n",
    "\n",
    "#Write a function that rotates a list by n positions. Print the original and rotated lists.\n",
    "def rotate_list(org_lst,n):\n",
    "    if not org_lst:\n",
    "        return []\n",
    "    n=n%len(org_lst)\n",
    "    rotated_lst = org_lst[-n:]+org_lst[:-n]\n",
    "    return rotated_lst\n",
    "org_lst = [10,20,30,40,50,60,70,80]\n",
    "n=3\n",
    "rotate_list(org_lst,n)"
   ]
  },
  {
   "cell_type": "code",
   "execution_count": 54,
   "id": "e51a13b6",
   "metadata": {},
   "outputs": [
    {
     "data": {
      "text/plain": [
       "[1, 2, 3]"
      ]
     },
     "execution_count": 54,
     "metadata": {},
     "output_type": "execute_result"
    }
   ],
   "source": [
    "### Assignment 15: List Intersection\n",
    "\n",
    "#Write a function that takes two lists and returns a new list containing only the elements that are present in both lists. Print the intersected list.\n",
    "def Intersection(lst1,lst2):\n",
    "    lst3 = [item for item in lst1 if item in lst2]\n",
    "    return lst3\n",
    "lst1 = [1,2,3,4,5]\n",
    "lst2 = [1,2,3]\n",
    "Intersection(lst1,lst2)"
   ]
  }
 ],
 "metadata": {
  "kernelspec": {
   "display_name": "Python 3",
   "language": "python",
   "name": "python3"
  },
  "language_info": {
   "codemirror_mode": {
    "name": "ipython",
    "version": 3
   },
   "file_extension": ".py",
   "mimetype": "text/x-python",
   "name": "python",
   "nbconvert_exporter": "python",
   "pygments_lexer": "ipython3",
   "version": "3.12.0"
  }
 },
 "nbformat": 4,
 "nbformat_minor": 5
}
