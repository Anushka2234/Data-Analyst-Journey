{
 "cells": [
  {
   "cell_type": "markdown",
   "metadata": {},
   "source": [
    "# Module 3: Data Structures Assignments\n",
    "## Lesson 3.3: Sets\n"
   ]
  },
  {
   "cell_type": "code",
   "execution_count": 1,
   "id": "0aedb3b7",
   "metadata": {},
   "outputs": [
    {
     "name": "stdout",
     "output_type": "stream",
     "text": [
      "{1, 2, 3, 4, 5, 6, 7, 8, 9, 10}\n"
     ]
    }
   ],
   "source": [
    "### Assignment 1: Creating and Accessing Sets\n",
    "\n",
    "#Create a set with the first 10 positive integers. Print the set.\n",
    "numbers = set(range(1,11))\n",
    "print(numbers)\n"
   ]
  },
  {
   "cell_type": "code",
   "execution_count": 2,
   "id": "03434e2c",
   "metadata": {},
   "outputs": [
    {
     "name": "stdout",
     "output_type": "stream",
     "text": [
      "{1, 2, 3, 4, 5, 6, 7, 8, 9, 10, 11}\n"
     ]
    }
   ],
   "source": [
    "### Assignment 2: Adding and Removing Elements\n",
    "\n",
    "#Add the number 11 to the set created in Assignment 1. Then remove the number 1 from the set. Print the modified set.\n",
    "numbers.add(11)\n",
    "print(numbers)\n"
   ]
  },
  {
   "cell_type": "code",
   "execution_count": 3,
   "metadata": {},
   "outputs": [
    {
     "name": "stdout",
     "output_type": "stream",
     "text": [
      "{1, 2, 3, 4, 5, 6, 8, 10}\n",
      "{2, 4}\n",
      "{1, 3, 5}\n",
      "{1, 3, 5, 6, 8, 10}\n"
     ]
    }
   ],
   "source": [
    "### Assignment 3: Set Operations\n",
    "\n",
    "#Create two sets: one with the first 5 positive integers and another with the first 5 even integers. Perform and print the results of union, intersection, difference, and symmetric difference operations on these sets.\n",
    "\n",
    "set1 = {1,2,3,4,5}\n",
    "set2 = {2,4,6,8,10}\n",
    "\n",
    "print(set1.union(set2))\n",
    "print(set1.intersection(set2))\n",
    "print(set1.difference(set2))\n",
    "print(set1.symmetric_difference(set2))"
   ]
  },
  {
   "cell_type": "code",
   "execution_count": 4,
   "id": "a9e31151",
   "metadata": {},
   "outputs": [
    {
     "name": "stdout",
     "output_type": "stream",
     "text": [
      "{2, 4, 6, 8, 10, 12, 14, 16, 18, 20}\n"
     ]
    }
   ],
   "source": [
    "### Assignment 4: Set Comprehensions\n",
    "\n",
    "#Create a new set containing the squares of the first 10 positive integers using a set comprehension. Print the new set.\n",
    "\n",
    "set1 = set(x*2 for x in range(1,11))\n",
    "print(set1)"
   ]
  },
  {
   "cell_type": "code",
   "execution_count": 5,
   "id": "c7b9c612",
   "metadata": {},
   "outputs": [
    {
     "name": "stdout",
     "output_type": "stream",
     "text": [
      "{2, 4, 6, 8, 10}\n"
     ]
    }
   ],
   "source": [
    "### Assignment 5: Filtering Sets\n",
    "\n",
    "#Create a new set containing only the even numbers from the set created in Assignment 1 using a set comprehension. Print the new set.\n",
    "set2 = set(x for x in range(1,11) if x%2 == 0)\n",
    "print(set2)\n"
   ]
  },
  {
   "cell_type": "code",
   "execution_count": 6,
   "id": "8c0a1fee",
   "metadata": {},
   "outputs": [
    {
     "name": "stdout",
     "output_type": "stream",
     "text": [
      "{1, 2, 3, 4, 5, 6}\n"
     ]
    }
   ],
   "source": [
    "### Assignment 6: Set Methods\n",
    "\n",
    "#Create a set with duplicate elements and remove the duplicates using set methods. Print the modified set.\n",
    "\n",
    "set1 = {1,2,3,3,4,5,5,6}\n",
    "set2 = set(set1)\n",
    "print(set2)"
   ]
  },
  {
   "cell_type": "code",
   "execution_count": 9,
   "id": "32e6f4fa",
   "metadata": {},
   "outputs": [
    {
     "name": "stdout",
     "output_type": "stream",
     "text": [
      "{1, 2, 3, 4, 5}\n",
      "{1, 2, 3}\n",
      "True\n",
      "True\n"
     ]
    }
   ],
   "source": [
    "### Assignment 7: Subsets and Supersets\n",
    "\n",
    "#Create two sets: one with the first 5 positive integers and another with the first 3 positive integers. Check if the second set is a subset of the first set and if the first set is a superset of the second set. Print the results.\n",
    "set1 = set(range(1,6))\n",
    "print(set1)\n",
    "set2 = set(range(1,4))\n",
    "print(set2)\n",
    "print(set2.issubset(set1))\n",
    "print(set1.issuperset(set2))\n"
   ]
  },
  {
   "cell_type": "code",
   "execution_count": 10,
   "id": "fcf0106e",
   "metadata": {},
   "outputs": [
    {
     "name": "stdout",
     "output_type": "stream",
     "text": [
      "Frozen Set frozenset({1, 2, 3, 4, 5})\n"
     ]
    }
   ],
   "source": [
    "### Assignment 8: Frozenset\n",
    "\n",
    "#Create a frozenset with the first 5 positive integers. Print the frozenset.\n",
    "\n",
    "fs = frozenset(range(1,6))\n",
    "print(\"Frozen Set\",fs)"
   ]
  },
  {
   "cell_type": "code",
   "execution_count": 11,
   "id": "7cd30cbe",
   "metadata": {},
   "outputs": [
    {
     "name": "stdout",
     "output_type": "stream",
     "text": [
      "{1, 2, 3, 4, 5}\n",
      "[1, 2, 3, 4, 5]\n",
      "{1, 2, 3, 4, 5, 6}\n"
     ]
    }
   ],
   "source": [
    "### Assignment 9: Set and List Conversion\n",
    "\n",
    "#Create a set with the first 5 positive integers. Convert it to a list, append the number 6, and convert it back to a set. Print the resulting set.\n",
    "\n",
    "set1= set(range(1,6))\n",
    "print(set1)\n",
    "lst1 = list(set1)\n",
    "print(lst1)\n",
    "lst1.append(6)\n",
    "set2 = set(lst1)\n",
    "print(set2)"
   ]
  },
  {
   "cell_type": "code",
   "execution_count": 13,
   "id": "048d45db",
   "metadata": {},
   "outputs": [
    {
     "name": "stdout",
     "output_type": "stream",
     "text": [
      "{frozenset({'Anu'}): 1, frozenset({'Kaun'}): 2, frozenset({'Vanu'}): 3}\n"
     ]
    }
   ],
   "source": [
    "### Assignment 10: Set and Dictionary\n",
    "\n",
    "#Create a dictionary with set keys and integer values. Print the dictionary.\n",
    "\n",
    "my_dict = {\n",
    "    frozenset({\"Anu\"}):1,\n",
    "    frozenset({\"Kaun\"}):2,\n",
    "    frozenset({\"Vanu\"}):3\n",
    "}\n",
    "print(my_dict)"
   ]
  },
  {
   "cell_type": "code",
   "execution_count": 15,
   "id": "2187860b",
   "metadata": {},
   "outputs": [
    {
     "name": "stdout",
     "output_type": "stream",
     "text": [
      "{1, 2, 3, 4, 5, 6, 7, 8, 9}\n",
      "1\n",
      "2\n",
      "3\n",
      "4\n",
      "5\n",
      "6\n",
      "7\n",
      "8\n",
      "9\n"
     ]
    }
   ],
   "source": [
    "### Assignment 11: Iterating Over Sets\n",
    "\n",
    "#Create a set and iterate over the elements, printing each element.\n",
    "import random\n",
    "set1 = set(random.randint(1,10) for i in range(10))\n",
    "print(set1)\n",
    "for elements in set1:\n",
    "    print(elements)"
   ]
  },
  {
   "cell_type": "code",
   "execution_count": 17,
   "id": "1d4d914f",
   "metadata": {},
   "outputs": [
    {
     "name": "stdout",
     "output_type": "stream",
     "text": [
      "{8, 2, 4}\n",
      "Set2 After Each Removal {2, 4}\n",
      "Set2 After Each Removal {4}\n",
      "Set2 After Each Removal set()\n"
     ]
    }
   ],
   "source": [
    "### Assignment 12: Removing Elements from Sets\n",
    "\n",
    "#Create a set and remove elements from it until it is empty. Print the set after each removal.\n",
    "\n",
    "set2 = set(random.randint(1,10) for i in range(5))\n",
    "print(set2)\n",
    "while set2:\n",
    "    set2.pop()\n",
    "    print(\"Set2 After Each Removal\",set2)"
   ]
  },
  {
   "cell_type": "code",
   "execution_count": 18,
   "id": "791bda23",
   "metadata": {},
   "outputs": [
    {
     "name": "stdout",
     "output_type": "stream",
     "text": [
      "{1, 5}\n"
     ]
    }
   ],
   "source": [
    "### Assignment 13: Set Symmetric Difference Update\n",
    "\n",
    "#Create two sets and update the first set with the symmetric difference of the two sets. Print the modified first set.\n",
    "\n",
    "set1 = set(range(1,5))\n",
    "set2 = set(range(2,6))\n",
    "set1.symmetric_difference_update(set2)\n",
    "print(set1)"
   ]
  },
  {
   "cell_type": "code",
   "execution_count": 20,
   "id": "eccf1af1",
   "metadata": {},
   "outputs": [
    {
     "name": "stdout",
     "output_type": "stream",
     "text": [
      "True\n"
     ]
    }
   ],
   "source": [
    "### Assignment 14: Set Membership Testing\n",
    "\n",
    "#Create a set and test if certain elements are present in the set. Print the results.\n",
    "\n",
    "set1 = set(random.randint(1,10) for i in range(10))\n",
    "print(5 in set1)"
   ]
  },
  {
   "cell_type": "code",
   "execution_count": 23,
   "id": "5c77b496",
   "metadata": {},
   "outputs": [
    {
     "name": "stdout",
     "output_type": "stream",
     "text": [
      "Set of Tuples: {(1, 2), (3, 4), (5, 6)}\n"
     ]
    }
   ],
   "source": [
    "### Assignment 15: Set of Tuples\n",
    "\n",
    "#Create a set containing tuples, where each tuple contains two elements. Print the set.\n",
    "set1 = {\n",
    "    (1, 2),\n",
    "    (3, 4),\n",
    "    (5, 6)\n",
    "}\n",
    "\n",
    "# Print the set\n",
    "print(\"Set of Tuples:\", set1)"
   ]
  }
 ],
 "metadata": {
  "kernelspec": {
   "display_name": "Python 3",
   "language": "python",
   "name": "python3"
  },
  "language_info": {
   "codemirror_mode": {
    "name": "ipython",
    "version": 3
   },
   "file_extension": ".py",
   "mimetype": "text/x-python",
   "name": "python",
   "nbconvert_exporter": "python",
   "pygments_lexer": "ipython3",
   "version": "3.12.0"
  }
 },
 "nbformat": 4,
 "nbformat_minor": 5
}
