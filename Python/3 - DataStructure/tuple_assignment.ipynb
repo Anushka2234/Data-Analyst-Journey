{
 "cells": [
  {
   "cell_type": "markdown",
   "id": "6cade624",
   "metadata": {},
   "source": [
    "# Module 3: Data Structures Assignments\n",
    "## Lesson 3.2: Tuples"
   ]
  },
  {
   "cell_type": "code",
   "execution_count": 2,
   "metadata": {},
   "outputs": [
    {
     "name": "stdout",
     "output_type": "stream",
     "text": [
      "(1, 2, 3, 4, 5, 6, 7, 8, 9, 10)\n"
     ]
    }
   ],
   "source": [
    "### Assignment 1: Creating and Accessing Tuples\n",
    "\n",
    "# Create a tuple with the first 10 positive integers. Print the tuple.\n",
    "number = tuple(range(1,11))\n",
    "print(number)\n"
   ]
  },
  {
   "cell_type": "code",
   "execution_count": 9,
   "id": "0e059fc7",
   "metadata": {},
   "outputs": [
    {
     "name": "stdout",
     "output_type": "stream",
     "text": [
      "1\n",
      "6\n",
      "10\n"
     ]
    }
   ],
   "source": [
    "### Assignment 2: Accessing Tuple Elements\n",
    "\n",
    "# Print the first, middle, and last elements of the tuple created in Assignment 1.\n",
    "print(number[0])\n",
    "middle_index = len(number)//2\n",
    "print(number[middle_index])\n",
    "print(number[-1])\n"
   ]
  },
  {
   "cell_type": "code",
   "execution_count": 10,
   "id": "600b957f",
   "metadata": {},
   "outputs": [
    {
     "name": "stdout",
     "output_type": "stream",
     "text": [
      "(1, 2, 3)\n",
      "(8, 9, 10)\n",
      "(3, 4, 5, 6)\n"
     ]
    }
   ],
   "source": [
    "### Assignment 3: Tuple Slicing\n",
    "\n",
    "#Print the first three elements, the last three elements, and the elements from index 2 to 5 of the tuple created in Assignment 1.\n",
    "print(number[0:3])\n",
    "print(number[-3:])\n",
    "print(number[2:6])\n",
    "\n"
   ]
  },
  {
   "cell_type": "code",
   "execution_count": 13,
   "id": "152efaf0",
   "metadata": {},
   "outputs": [
    {
     "name": "stdout",
     "output_type": "stream",
     "text": [
      "Printing Matrix\n",
      "(1, 1, 7)\n",
      "(3, 8, 5)\n",
      "(10, 4, 2)\n"
     ]
    }
   ],
   "source": [
    "### Assignment 4: Nested Tuples\n",
    "\n",
    "# Create a nested tuple representing a 3x3 matrix and print the matrix. Access and print the element at the second row and third column.\n",
    "import random\n",
    "Matrix = tuple(tuple(random.randint(1,10) for j in range(3)) for i in range(3))\n",
    "print(\"Printing Matrix\")\n",
    "for row in Matrix:\n",
    "    print(row)\n",
    "\n"
   ]
  },
  {
   "cell_type": "code",
   "execution_count": 14,
   "id": "b61107f1",
   "metadata": {},
   "outputs": [
    {
     "name": "stdout",
     "output_type": "stream",
     "text": [
      "(1, 2, 3, 4, 5, 6)\n"
     ]
    }
   ],
   "source": [
    "### Assignment 5: Tuple Concatenation\n",
    "\n",
    "# Concatenate two tuples: (1, 2, 3) and (4, 5, 6). Print the resulting tuple.\n",
    "tup1 = (1, 2, 3)\n",
    "tup2 = (4, 5, 6)\n",
    "tup3 = tup1+tup2\n",
    "print(tup3)\n",
    "\n"
   ]
  },
  {
   "cell_type": "code",
   "execution_count": 15,
   "id": "235a9f40",
   "metadata": {},
   "outputs": [
    {
     "name": "stdout",
     "output_type": "stream",
     "text": [
      "3\n",
      "1\n"
     ]
    }
   ],
   "source": [
    "### Assignment 6: Tuple Methods\n",
    "\n",
    "# Create a tuple with duplicate elements and count the occurrences of an element. Find the index of the first occurrence of an element in the tuple.\n",
    "\n",
    "numbers = (2, 4, 6, 2, 8, 2, 10, 4, 6)\n",
    "counting_2 = numbers.count(2)\n",
    "print(counting_2)\n",
    "index_at_4 = numbers.index(4)\n",
    "print(index_at_4)\n"
   ]
  },
  {
   "cell_type": "code",
   "execution_count": 16,
   "id": "43ef7ec7",
   "metadata": {},
   "outputs": [
    {
     "name": "stdout",
     "output_type": "stream",
     "text": [
      "Anushka Salabh Kanishka Shubhangi Unknown\n"
     ]
    }
   ],
   "source": [
    "### Assignment 7: Unpacking Tuples\n",
    "\n",
    "# Create a tuple with 5 elements and unpack it into 5 variables. Print the variables.\n",
    "\n",
    "numbers = (\"Anushka\",\"Salabh\",\"Kanishka\",\"Shubhangi\",\"Unknown\")\n",
    "first,second,third,fourth,fifth = numbers\n",
    "print(first,second,third,fourth,fifth)"
   ]
  },
  {
   "cell_type": "code",
   "execution_count": 17,
   "id": "4a434d11",
   "metadata": {},
   "outputs": [
    {
     "name": "stdout",
     "output_type": "stream",
     "text": [
      "(1, 2, 3, 4, 5)\n"
     ]
    }
   ],
   "source": [
    "### Assignment 8: Tuple Conversion\n",
    "\n",
    "# Convert a list of the first 5 positive integers to a tuple. Print the tuple.\n",
    "\n",
    "lst = [1,2,3,4,5]\n",
    "tup=tuple(lst)\n",
    "print(tup)"
   ]
  },
  {
   "cell_type": "code",
   "execution_count": 22,
   "id": "c1c12bc6",
   "metadata": {},
   "outputs": [
    {
     "name": "stdout",
     "output_type": "stream",
     "text": [
      "((8, 3, 3), (9, 3, 9), (1, 5, 1))\n"
     ]
    }
   ],
   "source": [
    "### Assignment 9: Tuple of Tuples\n",
    "\n",
    "# Create a tuple containing 3 tuples, each with 3 elements. Print the tuple of tuples.\n",
    "Tuples=tuple(tuple(random.randint(1,10) for i in range(3))for j in range(3))\n",
    "print(Tuples)\n",
    "\n"
   ]
  },
  {
   "cell_type": "code",
   "execution_count": 24,
   "id": "7606244f",
   "metadata": {},
   "outputs": [
    {
     "name": "stdout",
     "output_type": "stream",
     "text": [
      "(1, 2, 3, 4, 5)\n",
      "[1, 2, 3, 4, 5]\n",
      "(1, 2, 3, 4, 5, 6)\n"
     ]
    }
   ],
   "source": [
    "### Assignment 10: Tuple and List\n",
    "\n",
    "# Create a tuple with the first 5 positive integers. Convert it to a list, append the number 6, and convert it back to a tuple. Print the resulting tuple.\n",
    "\n",
    "tup1 = tuple(range(1,6))\n",
    "print(tup1)\n",
    "lst1 = list(tup1)\n",
    "print(lst1)\n",
    "lst1.append(6)\n",
    "tup2 = tuple(lst1)\n",
    "print(tup2)"
   ]
  },
  {
   "cell_type": "code",
   "execution_count": 27,
   "id": "abf14f1a",
   "metadata": {},
   "outputs": [
    {
     "name": "stdout",
     "output_type": "stream",
     "text": [
      "('A', 'n', 'u', 's', 'h', 'k', 'a')\n",
      "Anushka\n"
     ]
    }
   ],
   "source": [
    "### Assignment 11: Tuple and String\n",
    "\n",
    "#Create a tuple with the characters of a string. Join the tuple elements into a single string. Print the string.\n",
    "str1 = \"Anushka\"\n",
    "tup1 = tuple(str1)\n",
    "print(tup1)\n",
    "str2 = ''.join(tup1)\n",
    "print(str2)\n"
   ]
  },
  {
   "cell_type": "code",
   "execution_count": 28,
   "id": "ebfa4381",
   "metadata": {},
   "outputs": [
    {
     "name": "stdout",
     "output_type": "stream",
     "text": [
      "{'Anu': 1, 'Vanu': 2, 'Kaun': 3, 'Sanu': 4}\n"
     ]
    }
   ],
   "source": [
    "### Assignment 12: Tuple and Dictionary\n",
    "\n",
    "#Create a dictionary with tuple keys and integer values. Print the dictionary.\n",
    "\n",
    "my_dict = {\n",
    "    (\"Anu\"):1,\n",
    "    (\"Vanu\"):2,\n",
    "    (\"Kaun\"):3,\n",
    "    (\"Sanu\"):4\n",
    "}\n",
    "print(my_dict)"
   ]
  },
  {
   "cell_type": "code",
   "execution_count": 30,
   "id": "9b2d3d2f",
   "metadata": {},
   "outputs": [
    {
     "name": "stdout",
     "output_type": "stream",
     "text": [
      "(3, 1, 5)\n",
      "(4, 2, 2)\n",
      "(4, 3, 1)\n",
      "3\n",
      "1\n",
      "5\n",
      "4\n",
      "2\n",
      "2\n",
      "4\n",
      "3\n",
      "1\n"
     ]
    }
   ],
   "source": [
    "### Assignment 13: Nested Tuple Iteration\n",
    "\n",
    "# Create a nested tuple and iterate over the elements, printing each element.\n",
    "\n",
    "tup1 = tuple(tuple(random.randint(1,6) for j in range(3))for i in range(3))\n",
    "for row in tup1:\n",
    "    print(row)\n",
    "\n",
    "for rows in tup1:\n",
    "    for element in rows:\n",
    "        print(element)"
   ]
  },
  {
   "cell_type": "code",
   "execution_count": 31,
   "id": "7af2a946",
   "metadata": {},
   "outputs": [
    {
     "name": "stdout",
     "output_type": "stream",
     "text": [
      "(9, 9, 3, 8, 5, 6, 9, 5, 9, 1)\n",
      "{1, 3, 5, 6, 8, 9}\n"
     ]
    }
   ],
   "source": [
    "### Assignment 14: Tuple and Set\n",
    "\n",
    "# Create a tuple with duplicate elements. Convert it to a set to remove duplicates and print the resulting set.\n",
    "\n",
    "tup = tuple(random.randint(1,10)for i in range(10))\n",
    "print(tup)\n",
    "tup2 = set(tup)\n",
    "print(tup2)"
   ]
  },
  {
   "cell_type": "code",
   "execution_count": 33,
   "id": "c0dc0239",
   "metadata": {},
   "outputs": [
    {
     "name": "stdout",
     "output_type": "stream",
     "text": [
      "(8, 8, 7, 4, 8, 6, 10, 8, 2, 7)\n",
      "68\n",
      "10\n",
      "2\n"
     ]
    }
   ],
   "source": [
    "### Assignment 15: Tuple Functions\n",
    "\n",
    "# Write functions that take a tuple and return the minimum, maximum, and sum of the elements. Print the results for a sample tuple.\n",
    "tup = tuple(random.randint(1,10) for i in range(10))\n",
    "print(tup)\n",
    "Max1 = max(tup)\n",
    "Min1 = min(tup)\n",
    "sum = 0\n",
    "for element in tup:\n",
    "    sum+=element\n",
    "print(sum)\n",
    "print(Max1)\n",
    "print(Min1)\n"
   ]
  }
 ],
 "metadata": {
  "kernelspec": {
   "display_name": "Python 3",
   "language": "python",
   "name": "python3"
  },
  "language_info": {
   "codemirror_mode": {
    "name": "ipython",
    "version": 3
   },
   "file_extension": ".py",
   "mimetype": "text/x-python",
   "name": "python",
   "nbconvert_exporter": "python",
   "pygments_lexer": "ipython3",
   "version": "3.12.0"
  }
 },
 "nbformat": 4,
 "nbformat_minor": 5
}
