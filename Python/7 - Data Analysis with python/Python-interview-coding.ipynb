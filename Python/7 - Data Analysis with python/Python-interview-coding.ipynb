{
 "cells": [
  {
   "cell_type": "code",
   "execution_count": 1,
   "id": "1b40d042",
   "metadata": {},
   "outputs": [],
   "source": [
    "import pandas as pd\n",
    "import numpy as np\n",
    "import matplotlib.pyplot as plt\n",
    "import seaborn as sns\n",
    "from collections import Counter"
   ]
  },
  {
   "cell_type": "code",
   "execution_count": 2,
   "id": "7dafa107",
   "metadata": {},
   "outputs": [
    {
     "data": {
      "text/html": [
       "<div>\n",
       "<style scoped>\n",
       "    .dataframe tbody tr th:only-of-type {\n",
       "        vertical-align: middle;\n",
       "    }\n",
       "\n",
       "    .dataframe tbody tr th {\n",
       "        vertical-align: top;\n",
       "    }\n",
       "\n",
       "    .dataframe thead th {\n",
       "        text-align: right;\n",
       "    }\n",
       "</style>\n",
       "<table border=\"1\" class=\"dataframe\">\n",
       "  <thead>\n",
       "    <tr style=\"text-align: right;\">\n",
       "      <th></th>\n",
       "      <th>A</th>\n",
       "      <th>B</th>\n",
       "    </tr>\n",
       "  </thead>\n",
       "  <tbody>\n",
       "    <tr>\n",
       "      <th>0</th>\n",
       "      <td>1</td>\n",
       "      <td>3</td>\n",
       "    </tr>\n",
       "    <tr>\n",
       "      <th>2</th>\n",
       "      <td>2</td>\n",
       "      <td>4</td>\n",
       "    </tr>\n",
       "  </tbody>\n",
       "</table>\n",
       "</div>"
      ],
      "text/plain": [
       "   A  B\n",
       "0  1  3\n",
       "2  2  4"
      ]
     },
     "execution_count": 2,
     "metadata": {},
     "output_type": "execute_result"
    }
   ],
   "source": [
    "#Data Manipulation and Cleaning\n",
    "#Remove duplicates rows\n",
    "df = pd.DataFrame({'A':[1,1,2],'B':[3,3,4]})\n",
    "df_no_dup = df.drop_duplicates()\n",
    "df_no_dup"
   ]
  },
  {
   "cell_type": "code",
   "execution_count": 3,
   "id": "b67a4a5f",
   "metadata": {},
   "outputs": [
    {
     "name": "stdout",
     "output_type": "stream",
     "text": [
      "     A    B\n",
      "0  1.0  4.0\n",
      "1  NaN  5.0\n",
      "2  3.0  NaN\n",
      "     A    B\n",
      "0  1.0  4.0\n",
      "     A    B\n",
      "0  1.0  4.0\n",
      "1  0.0  5.0\n",
      "2  3.0  0.0\n",
      "     A    B\n",
      "0  1.0  4.0\n",
      "1  2.0  5.0\n",
      "2  3.0  5.0\n"
     ]
    }
   ],
   "source": [
    "#Handle Missing values\n",
    "df = pd.DataFrame({'A':[1,None,3],'B':[4,5,None]})\n",
    "print(df)\n",
    "print(df.dropna())\n",
    "print(df.fillna(0))\n",
    "print(df.interpolate())"
   ]
  },
  {
   "cell_type": "code",
   "execution_count": 4,
   "id": "b112be2d",
   "metadata": {},
   "outputs": [
    {
     "name": "stdout",
     "output_type": "stream",
     "text": [
      "   A  B\n",
      "0  1  3\n",
      "1  2  4\n"
     ]
    }
   ],
   "source": [
    "#Rename columns\n",
    "df = pd.DataFrame({'a':[1,2],'b':[3,4]})\n",
    "df = df.rename(columns={'a':'A','b':'B'})\n",
    "print(df)"
   ]
  },
  {
   "cell_type": "code",
   "execution_count": 5,
   "id": "40a9d79b",
   "metadata": {},
   "outputs": [
    {
     "name": "stdout",
     "output_type": "stream",
     "text": [
      "  Product Category  Sales\n",
      "0       A     Best     87\n",
      "1       C     Good     21\n",
      "2       B     Good     76\n",
      "3       C      Bad     79\n",
      "4       C     Good     27\n",
      "5       C     Best     76\n",
      "6       B     Good     98\n",
      "7       C      Bad     50\n",
      "8       A     Best     26\n",
      "9       C      Bad     92\n",
      "Category\n",
      "Bad     221\n",
      "Best    189\n",
      "Good    222\n",
      "Name: Sales, dtype: int32\n",
      "Category\n",
      "Bad     221\n",
      "Best    189\n",
      "Good    222\n",
      "Name: Sales, dtype: int32\n"
     ]
    }
   ],
   "source": [
    "#Groups & Summary stats\n",
    "product = np.random.choice(['A','B','C'],size=10)\n",
    "category = np.random.choice(['Good','Bad','Best'],size=10)\n",
    "sales = np.random.randint(20,100,size=10)\n",
    "df = pd.DataFrame({\n",
    "    'Product':product,\n",
    "    'Category':category,\n",
    "    'Sales':sales\n",
    "})\n",
    "print(df)\n",
    "\n",
    "result = df.groupby('Category')['Sales'].sum()\n",
    "print(result)                 \n",
    "print(result)"
   ]
  },
  {
   "cell_type": "code",
   "execution_count": 7,
   "id": "5374ebdc",
   "metadata": {},
   "outputs": [
    {
     "name": "stdout",
     "output_type": "stream",
     "text": [
      "          mean  sum\n",
      "Category           \n",
      "X         15.0   30\n",
      "Y         30.0   30\n"
     ]
    }
   ],
   "source": [
    "#Filter rows by condition\n",
    "df = pd.DataFrame({'Category':['X','X','Y'],\n",
    "                   'Value':[10,20,30]})\n",
    "print(df.groupby('Category')['Value'].agg(['mean','sum']))"
   ]
  },
  {
   "cell_type": "code",
   "execution_count": 8,
   "id": "a4ec69b7",
   "metadata": {},
   "outputs": [
    {
     "name": "stdout",
     "output_type": "stream",
     "text": [
      "  Category  Value\n",
      "1        X     20\n",
      "2        Y     30\n"
     ]
    }
   ],
   "source": [
    "#Filter rows by condition\n",
    "print(df[df['Value']>15])"
   ]
  },
  {
   "cell_type": "code",
   "execution_count": 10,
   "id": "f538dd01",
   "metadata": {},
   "outputs": [
    {
     "name": "stdout",
     "output_type": "stream",
     "text": [
      "   ID  Score Grade\n",
      "0   1     50     B\n",
      "1   2     60     A\n"
     ]
    }
   ],
   "source": [
    "#Data Aggregation & Transformation\n",
    "df1 = pd.DataFrame({'ID':[1,2], 'Score':[50,60]})\n",
    "df2 = pd.DataFrame({'ID':[1,2],'Grade':['B','A']})\n",
    "print(pd.merge(df1,df2,on='ID',how='inner'))"
   ]
  },
  {
   "cell_type": "code",
   "execution_count": 11,
   "id": "4189ce3c",
   "metadata": {},
   "outputs": [
    {
     "name": "stdout",
     "output_type": "stream",
     "text": [
      "   ID  Score Grade\n",
      "0   1     50     B\n",
      "1   2     60     A\n"
     ]
    }
   ],
   "source": [
    "print(pd.merge(df1,df2,on='ID',how='outer'))"
   ]
  },
  {
   "cell_type": "code",
   "execution_count": 13,
   "id": "109b7000",
   "metadata": {},
   "outputs": [
    {
     "name": "stdout",
     "output_type": "stream",
     "text": [
      "   Year Quarter  Revenue\n",
      "0  2023      Q1      100\n",
      "1  2023      Q2      150\n",
      "2  2024      Q3      200\n",
      "Quarter     Q1     Q2     Q3\n",
      "Year                        \n",
      "2023     100.0  150.0    NaN\n",
      "2024       NaN    NaN  200.0\n"
     ]
    }
   ],
   "source": [
    "#Pivot with aggregation\n",
    "sales = pd.DataFrame({\n",
    "    'Year':[2023,2023,2024],\n",
    "    'Quarter':['Q1','Q2','Q3'],\n",
    "    'Revenue':[100,150,200]\n",
    "})\n",
    "print(sales)\n",
    "print(pd.pivot_table(sales,\n",
    "                     index='Year',\n",
    "                     columns='Quarter',\n",
    "                     values='Revenue',\n",
    "                     aggfunc='sum'\n",
    "                     ))"
   ]
  },
  {
   "cell_type": "code",
   "execution_count": 14,
   "id": "7f57ec7f",
   "metadata": {},
   "outputs": [
    {
     "data": {
      "text/html": [
       "<div>\n",
       "<style scoped>\n",
       "    .dataframe tbody tr th:only-of-type {\n",
       "        vertical-align: middle;\n",
       "    }\n",
       "\n",
       "    .dataframe tbody tr th {\n",
       "        vertical-align: top;\n",
       "    }\n",
       "\n",
       "    .dataframe thead th {\n",
       "        text-align: right;\n",
       "    }\n",
       "</style>\n",
       "<table border=\"1\" class=\"dataframe\">\n",
       "  <thead>\n",
       "    <tr style=\"text-align: right;\">\n",
       "      <th></th>\n",
       "      <th>Price</th>\n",
       "      <th>Qty</th>\n",
       "      <th>Total</th>\n",
       "    </tr>\n",
       "  </thead>\n",
       "  <tbody>\n",
       "    <tr>\n",
       "      <th>0</th>\n",
       "      <td>5</td>\n",
       "      <td>2</td>\n",
       "      <td>10</td>\n",
       "    </tr>\n",
       "    <tr>\n",
       "      <th>1</th>\n",
       "      <td>10</td>\n",
       "      <td>3</td>\n",
       "      <td>30</td>\n",
       "    </tr>\n",
       "  </tbody>\n",
       "</table>\n",
       "</div>"
      ],
      "text/plain": [
       "   Price  Qty  Total\n",
       "0      5    2     10\n",
       "1     10    3     30"
      ]
     },
     "execution_count": 14,
     "metadata": {},
     "output_type": "execute_result"
    }
   ],
   "source": [
    "#Add a calculated column\n",
    "df = pd.DataFrame({\n",
    "    'Price':[5,10],\n",
    "    'Qty':[2,3]\n",
    "})\n",
    "df['Total'] = df['Price'] * df['Qty']\n",
    "df"
   ]
  },
  {
   "cell_type": "code",
   "execution_count": 15,
   "id": "b02417be",
   "metadata": {},
   "outputs": [
    {
     "name": "stdout",
     "output_type": "stream",
     "text": [
      "   Price  Qty  Total  DoubleQty\n",
      "0      5    2     10          4\n",
      "1     10    3     30          6\n"
     ]
    }
   ],
   "source": [
    "#Apply with lambda\n",
    "df['DoubleQty'] = df['Qty'].apply(lambda x:x*2)\n",
    "print(df)"
   ]
  },
  {
   "cell_type": "code",
   "execution_count": 16,
   "id": "54681f33",
   "metadata": {},
   "outputs": [
    {
     "name": "stdout",
     "output_type": "stream",
     "text": [
      "3.0 3.0 1\n"
     ]
    }
   ],
   "source": [
    "#Data Analysis and Exploration\n",
    "#Summary statistics\n",
    "nums  = pd.Series([1,2,3,4,5])\n",
    "print(nums.mean(),nums.median(),nums.mode()[0])"
   ]
  },
  {
   "cell_type": "code",
   "execution_count": 17,
   "id": "2d49cfd8",
   "metadata": {},
   "outputs": [
    {
     "data": {
      "text/html": [
       "<div>\n",
       "<style scoped>\n",
       "    .dataframe tbody tr th:only-of-type {\n",
       "        vertical-align: middle;\n",
       "    }\n",
       "\n",
       "    .dataframe tbody tr th {\n",
       "        vertical-align: top;\n",
       "    }\n",
       "\n",
       "    .dataframe thead th {\n",
       "        text-align: right;\n",
       "    }\n",
       "</style>\n",
       "<table border=\"1\" class=\"dataframe\">\n",
       "  <thead>\n",
       "    <tr style=\"text-align: right;\">\n",
       "      <th></th>\n",
       "      <th>A</th>\n",
       "      <th>B</th>\n",
       "    </tr>\n",
       "  </thead>\n",
       "  <tbody>\n",
       "    <tr>\n",
       "      <th>A</th>\n",
       "      <td>1.0</td>\n",
       "      <td>1.0</td>\n",
       "    </tr>\n",
       "    <tr>\n",
       "      <th>B</th>\n",
       "      <td>1.0</td>\n",
       "      <td>1.0</td>\n",
       "    </tr>\n",
       "  </tbody>\n",
       "</table>\n",
       "</div>"
      ],
      "text/plain": [
       "     A    B\n",
       "A  1.0  1.0\n",
       "B  1.0  1.0"
      ]
     },
     "execution_count": 17,
     "metadata": {},
     "output_type": "execute_result"
    }
   ],
   "source": [
    "#Correlation matrix\n",
    "df = pd.DataFrame({\n",
    "    'A':[1,2,3],\n",
    "    'B':[2,4,6]\n",
    "})\n",
    "corr = df.corr()\n",
    "corr"
   ]
  },
  {
   "cell_type": "code",
   "execution_count": 18,
   "id": "4d4a15a3",
   "metadata": {},
   "outputs": [
    {
     "name": "stdout",
     "output_type": "stream",
     "text": [
      "0    NaN\n",
      "1    NaN\n",
      "2    2.0\n",
      "3    3.0\n",
      "4    4.0\n",
      "5    5.0\n",
      "dtype: float64\n"
     ]
    }
   ],
   "source": [
    "#Rolling Average\n",
    "ts = pd.Series([1,2,3,4,5,6])\n",
    "print(ts.rolling(window=3).mean())"
   ]
  },
  {
   "cell_type": "code",
   "execution_count": 21,
   "id": "717f920c",
   "metadata": {},
   "outputs": [
    {
     "name": "stdout",
     "output_type": "stream",
     "text": [
      "a    2\n",
      "b    2\n",
      "c    1\n",
      "Name: count, dtype: int64\n",
      "a    2\n",
      "b    2\n",
      "Name: count, dtype: int64\n"
     ]
    }
   ],
   "source": [
    "#top-N frequent values\n",
    "cats = pd.Series(['a','b','c','a','b'])\n",
    "print(cats.value_counts())\n",
    "print(cats.value_counts().head(2))"
   ]
  },
  {
   "cell_type": "code",
   "execution_count": 23,
   "id": "578c4c90",
   "metadata": {},
   "outputs": [
    {
     "data": {
      "image/png": "[encoded data removed]",
      "text/plain": [
       "<Figure size 640x480 with 1 Axes>"
      ]
     },
     "metadata": {},
     "output_type": "display_data"
    }
   ],
   "source": [
    "#Data Visualization\n",
    "#Histogram and bar plot\n",
    "nums = [30,20,10,40,70]\n",
    "sns.histplot(nums, bins=5,color='purple')\n",
    "plt.show()"
   ]
  },
  {
   "cell_type": "code",
   "execution_count": 24,
   "id": "4290105f",
   "metadata": {},
   "outputs": [
    {
     "data": {
      "image/png": "[encoded data removed]",
      "text/plain": [
       "<Figure size 640x480 with 1 Axes>"
      ]
     },
     "metadata": {},
     "output_type": "display_data"
    }
   ],
   "source": [
    "sns.barplot(x=['A','B'],y=[5,7])\n",
    "plt.show()"
   ]
  },
  {
   "cell_type": "code",
   "execution_count": 25,
   "id": "4d58b586",
   "metadata": {},
   "outputs": [
    {
     "data": {
      "image/png": "[encoded data removed]",
      "text/plain": [
       "<Figure size 640x480 with 1 Axes>"
      ]
     },
     "metadata": {},
     "output_type": "display_data"
    }
   ],
   "source": [
    "#Scatter Plot\n",
    "plt.scatter([1,2,3],[3,2,5], c='red',label='points')\n",
    "plt.xlabel('X')\n",
    "plt.ylabel('Y')\n",
    "plt.legend()\n",
    "plt.show()"
   ]
  },
  {
   "cell_type": "code",
   "execution_count": 26,
   "id": "8f5ca698",
   "metadata": {},
   "outputs": [
    {
     "data": {
      "image/png": "[encoded data removed]",
      "text/plain": [
       "<Figure size 640x480 with 1 Axes>"
      ]
     },
     "metadata": {},
     "output_type": "display_data"
    }
   ],
   "source": [
    "#plot a time series\n",
    "dates = pd.date_range('2024-01-01',periods=5)\n",
    "values = pd.Series([1,3,2,5,4],index=dates)\n",
    "values.plot(title=\"Time Series\")\n",
    "plt.xlabel('Date')\n",
    "plt.ylabel('Value')\n",
    "plt.show()"
   ]
  },
  {
   "cell_type": "code",
   "execution_count": 27,
   "id": "da49edea",
   "metadata": {},
   "outputs": [
    {
     "name": "stdout",
     "output_type": "stream",
     "text": [
      "collections.Counter[1, 2, 2, 3, 1]\n"
     ]
    }
   ],
   "source": [
    "#Basic python and logic\n",
    "from collections import Counter\n",
    "print(Counter[1,2,2,3,1])"
   ]
  },
  {
   "cell_type": "code",
   "execution_count": 28,
   "id": "69e97373",
   "metadata": {},
   "outputs": [
    {
     "name": "stdout",
     "output_type": "stream",
     "text": [
      "[{'name': 'Bob', 'age': 25}, {'name': 'Ann', 'age': 30}]\n"
     ]
    }
   ],
   "source": [
    "#sort list of dicts by key\n",
    "data = [{'name':'Bob','age':25},{'name':'Ann','age':30}]\n",
    "print(sorted(data, key=lambda x:x['age']))"
   ]
  },
  {
   "cell_type": "code",
   "execution_count": 29,
   "id": "251d6fef",
   "metadata": {},
   "outputs": [
    {
     "name": "stdout",
     "output_type": "stream",
     "text": [
      "True\n"
     ]
    }
   ],
   "source": [
    "#Check palindrome\n",
    "def ispalindrome(s):\n",
    "    s = s.lower().replace(' ','')\n",
    "    return s == s[::-1]\n",
    "print(ispalindrome(\"Race car\"))"
   ]
  },
  {
   "cell_type": "code",
   "execution_count": 30,
   "id": "b4231562",
   "metadata": {},
   "outputs": [
    {
     "name": "stdout",
     "output_type": "stream",
     "text": [
      "{(2, 4), (1, 5)}\n"
     ]
    }
   ],
   "source": [
    "#Find unique pairs summing to target\n",
    "def find_pairs(nums,target):\n",
    "    seen, pairs = set(),set()\n",
    "    for n in nums:\n",
    "        if target-n in seen:\n",
    "            pairs.add(tuple(sorted((n,target-n))))\n",
    "        seen.add(n)\n",
    "    return pairs\n",
    "\n",
    "print(find_pairs([1,2,3,4,5],6))"
   ]
  },
  {
   "cell_type": "code",
   "execution_count": 31,
   "id": "b7e69f52",
   "metadata": {},
   "outputs": [
    {
     "data": {
      "text/html": [
       "<div>\n",
       "<style scoped>\n",
       "    .dataframe tbody tr th:only-of-type {\n",
       "        vertical-align: middle;\n",
       "    }\n",
       "\n",
       "    .dataframe tbody tr th {\n",
       "        vertical-align: top;\n",
       "    }\n",
       "\n",
       "    .dataframe thead th {\n",
       "        text-align: right;\n",
       "    }\n",
       "</style>\n",
       "<table border=\"1\" class=\"dataframe\">\n",
       "  <thead>\n",
       "    <tr style=\"text-align: right;\">\n",
       "      <th></th>\n",
       "      <th>name</th>\n",
       "      <th>age</th>\n",
       "    </tr>\n",
       "  </thead>\n",
       "  <tbody>\n",
       "    <tr>\n",
       "      <th>0</th>\n",
       "      <td>Alice</td>\n",
       "      <td>25</td>\n",
       "    </tr>\n",
       "  </tbody>\n",
       "</table>\n",
       "</div>"
      ],
      "text/plain": [
       "    name  age\n",
       "0  Alice   25"
      ]
     },
     "execution_count": 31,
     "metadata": {},
     "output_type": "execute_result"
    }
   ],
   "source": [
    "#Working with json & apis\n",
    "import json\n",
    "data = '{\"name\":\"Alice\",\"age\":25}'\n",
    "df = pd.json_normalize(json.loads(data))\n",
    "df"
   ]
  },
  {
   "cell_type": "code",
   "execution_count": 32,
   "id": "525767b7",
   "metadata": {},
   "outputs": [
    {
     "name": "stdout",
     "output_type": "stream",
     "text": [
      "3.0 3.0 1.4142135623730951\n",
      "5 1\n",
      "[[1 2 3 4 5]]\n"
     ]
    }
   ],
   "source": [
    "#Numpy array Manipulation\n",
    "import numpy as np\n",
    "arr = np.array([1,2,3,4,5])\n",
    "print(arr.mean(),np.median(arr),arr.std())\n",
    "print(arr.max(),arr.min())\n",
    "print(arr.reshape(1,-1))"
   ]
  },
  {
   "cell_type": "code",
   "execution_count": 34,
   "id": "2aae533c",
   "metadata": {},
   "outputs": [
    {
     "data": {
      "text/plain": [
       "Date    datetime64[ns]\n",
       "dtype: object"
      ]
     },
     "execution_count": 34,
     "metadata": {},
     "output_type": "execute_result"
    }
   ],
   "source": [
    "#Converting string to datetime\n",
    "df = pd.DataFrame({\n",
    "    'Date':['2024-01-01','2024-02-01']\n",
    "})\n",
    "df['Date'] = pd.to_datetime(df['Date'])\n",
    "df\n",
    "df.dtypes"
   ]
  },
  {
   "cell_type": "code",
   "execution_count": 35,
   "id": "f400eb54",
   "metadata": {},
   "outputs": [
    {
     "name": "stdout",
     "output_type": "stream",
     "text": [
      "2024-01-01    0.0\n",
      "2024-01-02    0.5\n",
      "2024-01-03    1.0\n",
      "2024-01-04    1.5\n",
      "2024-01-05    2.0\n",
      "Freq: D, dtype: float64\n"
     ]
    }
   ],
   "source": [
    "#Monthly rolling average\n",
    "ts = pd.Series(range(90), index=pd.date_range('2024-01-01',periods=90))\n",
    "print(ts.rolling('30D').mean().head())"
   ]
  },
  {
   "cell_type": "code",
   "execution_count": 36,
   "id": "faa6218f",
   "metadata": {},
   "outputs": [
    {
     "name": "stdout",
     "output_type": "stream",
     "text": [
      "2024-01-31    15.0\n",
      "2024-02-29    45.0\n",
      "2024-03-31    74.5\n",
      "Freq: ME, dtype: float64\n"
     ]
    },
    {
     "name": "stderr",
     "output_type": "stream",
     "text": [
      "C:\\Users\\rajat\\AppData\\Local\\Temp\\ipykernel_18652\\2606586456.py:1: FutureWarning: 'M' is deprecated and will be removed in a future version, please use 'ME' instead.\n",
      "  print(ts.resample('M').mean())\n"
     ]
    }
   ],
   "source": [
    "print(ts.resample('M').mean())\n"
   ]
  },
  {
   "cell_type": "code",
   "execution_count": null,
   "id": "eb0aa5d6",
   "metadata": {},
   "outputs": [],
   "source": []
  }
 ],
 "metadata": {
  "kernelspec": {
   "display_name": "Python 3",
   "language": "python",
   "name": "python3"
  },
  "language_info": {
   "codemirror_mode": {
    "name": "ipython",
    "version": 3
   },
   "file_extension": ".py",
   "mimetype": "text/x-python",
   "name": "python",
   "nbconvert_exporter": "python",
   "pygments_lexer": "ipython3",
   "version": "3.12.0"
  }
 },
 "nbformat": 4,
 "nbformat_minor": 5
}
