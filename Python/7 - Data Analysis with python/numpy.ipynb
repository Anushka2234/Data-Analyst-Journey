{
 "cells": [
  {
   "cell_type": "code",
   "execution_count": 3,
   "id": "55b65407",
   "metadata": {},
   "outputs": [
    {
     "name": "stdout",
     "output_type": "stream",
     "text": [
      "Collecting numpy\n",
      "  Using cached numpy-2.3.2-cp312-cp312-win_amd64.whl.metadata (60 kB)\n",
      "Downloading numpy-2.3.2-cp312-cp312-win_amd64.whl (12.8 MB)\n",
      "   ---------------------------------------- 0.0/12.8 MB ? eta -:--:--\n",
      "   -- ------------------------------------- 0.8/12.8 MB 8.5 MB/s eta 0:00:02\n",
      "   ---- ----------------------------------- 1.6/12.8 MB 4.0 MB/s eta 0:00:03\n",
      "   ------- -------------------------------- 2.4/12.8 MB 4.1 MB/s eta 0:00:03\n",
      "   --------- ------------------------------ 3.1/12.8 MB 3.6 MB/s eta 0:00:03\n",
      "   ------------ --------------------------- 3.9/12.8 MB 3.7 MB/s eta 0:00:03\n",
      "   ------------- -------------------------- 4.5/12.8 MB 3.4 MB/s eta 0:00:03\n",
      "   ---------------- ----------------------- 5.2/12.8 MB 3.7 MB/s eta 0:00:03\n",
      "   ------------------ --------------------- 6.0/12.8 MB 3.6 MB/s eta 0:00:02\n",
      "   -------------------- ------------------- 6.6/12.8 MB 3.5 MB/s eta 0:00:02\n",
      "   ---------------------- ----------------- 7.1/12.8 MB 3.4 MB/s eta 0:00:02\n",
      "   ----------------------- ---------------- 7.6/12.8 MB 3.3 MB/s eta 0:00:02\n",
      "   -------------------------- ------------- 8.4/12.8 MB 3.3 MB/s eta 0:00:02\n",
      "   --------------------------- ------------ 8.9/12.8 MB 3.2 MB/s eta 0:00:02\n",
      "   ----------------------------- ---------- 9.4/12.8 MB 3.2 MB/s eta 0:00:02\n",
      "   ------------------------------- -------- 10.0/12.8 MB 3.2 MB/s eta 0:00:01\n",
      "   --------------------------------- ------ 10.7/12.8 MB 3.2 MB/s eta 0:00:01\n",
      "   ------------------------------------ --- 11.5/12.8 MB 3.2 MB/s eta 0:00:01\n",
      "   -------------------------------------- - 12.3/12.8 MB 3.3 MB/s eta 0:00:01\n",
      "   ---------------------------------------- 12.8/12.8 MB 3.2 MB/s eta 0:00:00\n",
      "Installing collected packages: numpy\n",
      "Successfully installed numpy-2.3.2\n"
     ]
    }
   ],
   "source": [
    "!pip install numpy\n"
   ]
  },
  {
   "cell_type": "code",
   "execution_count": 4,
   "id": "c7d5964d",
   "metadata": {},
   "outputs": [
    {
     "name": "stdout",
     "output_type": "stream",
     "text": [
      "[1 2 3 4 5]\n",
      "<class 'numpy.ndarray'>\n",
      "(5,)\n"
     ]
    }
   ],
   "source": [
    "#create array using numpy\n",
    "import numpy as np\n",
    "arr1 = np.array([1,2,3,4,5])\n",
    "print(arr1)\n",
    "print(type(arr1))\n",
    "print(arr1.shape)"
   ]
  },
  {
   "cell_type": "code",
   "execution_count": 6,
   "id": "8ecf8229",
   "metadata": {},
   "outputs": [
    {
     "name": "stdout",
     "output_type": "stream",
     "text": [
      "[[1 2 3 4 5]\n",
      " [2 3 4 5 6]]\n",
      "(2, 5)\n"
     ]
    }
   ],
   "source": [
    "#2D Array\n",
    "arr2 = np.array([[1,2,3,4,5],[2,3,4,5,6]])\n",
    "print(arr2)\n",
    "print(arr2.shape)"
   ]
  },
  {
   "cell_type": "code",
   "execution_count": 7,
   "id": "5c88774a",
   "metadata": {},
   "outputs": [
    {
     "data": {
      "text/plain": [
       "array([[0],\n",
       "       [2],\n",
       "       [4],\n",
       "       [6],\n",
       "       [8]])"
      ]
     },
     "execution_count": 7,
     "metadata": {},
     "output_type": "execute_result"
    }
   ],
   "source": [
    "np.arange(0,10,2).reshape(5,1)"
   ]
  },
  {
   "cell_type": "code",
   "execution_count": 8,
   "id": "0a8139a2",
   "metadata": {},
   "outputs": [
    {
     "data": {
      "text/plain": [
       "array([[1., 1., 1., 1.],\n",
       "       [1., 1., 1., 1.],\n",
       "       [1., 1., 1., 1.]])"
      ]
     },
     "execution_count": 8,
     "metadata": {},
     "output_type": "execute_result"
    }
   ],
   "source": [
    "np.ones((3,4))"
   ]
  },
  {
   "cell_type": "code",
   "execution_count": 9,
   "id": "cecd6b51",
   "metadata": {},
   "outputs": [
    {
     "data": {
      "text/plain": [
       "array([[0., 0., 0.],\n",
       "       [0., 0., 0.]])"
      ]
     },
     "execution_count": 9,
     "metadata": {},
     "output_type": "execute_result"
    }
   ],
   "source": [
    "np.zeros((2,3))"
   ]
  },
  {
   "cell_type": "code",
   "execution_count": 10,
   "id": "fbefc440",
   "metadata": {},
   "outputs": [
    {
     "data": {
      "text/plain": [
       "array([[1., 0., 0.],\n",
       "       [0., 1., 0.],\n",
       "       [0., 0., 1.]])"
      ]
     },
     "execution_count": 10,
     "metadata": {},
     "output_type": "execute_result"
    }
   ],
   "source": [
    "#Identity Matrix\n",
    "np.eye(3)"
   ]
  },
  {
   "cell_type": "code",
   "execution_count": 14,
   "id": "cceaede2",
   "metadata": {},
   "outputs": [
    {
     "name": "stdout",
     "output_type": "stream",
     "text": [
      "Array:\n",
      " [[1 2 3]\n",
      " [4 5 6]]\n",
      "Shape: (2, 3)\n",
      "Number of dimensions: 2\n",
      "Size or Number of elements: 6\n",
      "Data type: int64\n",
      "Item size: 8\n"
     ]
    }
   ],
   "source": [
    "arr = np.array([[1,2,3],[4,5,6]])\n",
    "\n",
    "print(\"Array:\\n\", arr)\n",
    "print(\"Shape:\",arr.shape)\n",
    "print(\"Number of dimensions:\",arr.ndim)\n",
    "print(\"Size or Number of elements:\",arr.size)\n",
    "print(\"Data type:\",arr.dtype)\n",
    "print(\"Item size:\", arr.itemsize)\n",
    "\n"
   ]
  },
  {
   "cell_type": "code",
   "execution_count": 15,
   "id": "a3d4402b",
   "metadata": {},
   "outputs": [
    {
     "name": "stdout",
     "output_type": "stream",
     "text": [
      "Addition: [11 22 33 44 55]\n",
      "Subtraction [ -9 -18 -27 -36 -45]\n",
      "Multiplication [ 10  40  90 160 250]\n",
      "Division [0.1 0.1 0.1 0.1 0.1]\n"
     ]
    }
   ],
   "source": [
    "#Numpy Vectroized operation\n",
    "arr1 = np.array([1,2,3,4,5])\n",
    "arr2 = np.array([10,20,30,40,50])\\\n",
    "\n",
    "#Element Wise Addition\n",
    "print(\"Addition:\", arr1+arr2)\n",
    "\n",
    "#Element Wise Subtraction\n",
    "print(\"Subtraction\", arr1-arr2)\n",
    "\n",
    "#Element Wise Multiplication\n",
    "print(\"Multiplication\", arr1*arr2)\n",
    "\n",
    "#Element Wise Division\n",
    "print(\"Division\", arr1/arr2)"
   ]
  },
  {
   "cell_type": "code",
   "execution_count": 16,
   "id": "03dcacf8",
   "metadata": {},
   "outputs": [
    {
     "name": "stdout",
     "output_type": "stream",
     "text": [
      "[1.41421356 1.73205081 2.         2.23606798 2.44948974]\n",
      "[  7.3890561   20.08553692  54.59815003 148.4131591  403.42879349]\n",
      "[ 0.90929743  0.14112001 -0.7568025  -0.95892427 -0.2794155 ]\n",
      "[0.69314718 1.09861229 1.38629436 1.60943791 1.79175947]\n"
     ]
    }
   ],
   "source": [
    "##Universal Function\n",
    "arr = np.array([2,3,4,5,6])\n",
    "\n",
    "#square root\n",
    "print(np.sqrt(arr))\n",
    "\n",
    "\n",
    "#Exponential\n",
    "print(np.exp(arr))\n",
    "\n",
    "#Sine\n",
    "print(np.sin(arr))\n",
    "\n",
    "#natural log\n",
    "print(np.log(arr))"
   ]
  },
  {
   "cell_type": "code",
   "execution_count": 17,
   "id": "6d9ebfbc",
   "metadata": {},
   "outputs": [
    {
     "name": "stdout",
     "output_type": "stream",
     "text": [
      "Array : \n",
      " [[ 1  2  3  4]\n",
      " [ 5  6  7  8]\n",
      " [ 9 10 11 12]]\n"
     ]
    }
   ],
   "source": [
    "#Array slicing and indexing\n",
    "\n",
    "arr = np.array([[1,2,3,4],[5,6,7,8],[9,10,11,12]])\n",
    "print(\"Array : \\n\", arr)"
   ]
  },
  {
   "cell_type": "code",
   "execution_count": 20,
   "id": "589cebe6",
   "metadata": {},
   "outputs": [
    {
     "data": {
      "text/plain": [
       "array([1, 2, 3, 4])"
      ]
     },
     "execution_count": 20,
     "metadata": {},
     "output_type": "execute_result"
    }
   ],
   "source": [
    "arr[0]"
   ]
  },
  {
   "cell_type": "code",
   "execution_count": 21,
   "id": "7c71719b",
   "metadata": {},
   "outputs": [
    {
     "data": {
      "text/plain": [
       "np.int64(2)"
      ]
     },
     "execution_count": 21,
     "metadata": {},
     "output_type": "execute_result"
    }
   ],
   "source": [
    "arr[0][1]"
   ]
  },
  {
   "cell_type": "code",
   "execution_count": 23,
   "id": "69df12bd",
   "metadata": {},
   "outputs": [
    {
     "data": {
      "text/plain": [
       "array([[ 7,  8],\n",
       "       [11, 12]])"
      ]
     },
     "execution_count": 23,
     "metadata": {},
     "output_type": "execute_result"
    }
   ],
   "source": [
    "arr[1:,2:]"
   ]
  },
  {
   "cell_type": "code",
   "execution_count": 25,
   "id": "95067c4f",
   "metadata": {},
   "outputs": [
    {
     "name": "stdout",
     "output_type": "stream",
     "text": [
      "[[3 4]\n",
      " [7 8]]\n"
     ]
    }
   ],
   "source": [
    "print(arr[0:2,2:])"
   ]
  },
  {
   "cell_type": "code",
   "execution_count": 26,
   "id": "d974ea9f",
   "metadata": {},
   "outputs": [
    {
     "name": "stdout",
     "output_type": "stream",
     "text": [
      "[[100   2   3   4]\n",
      " [  5   6   7   8]\n",
      " [  9  10  11  12]]\n"
     ]
    }
   ],
   "source": [
    "#Modify array elements\n",
    "arr[0,0] = 100\n",
    "print(arr)"
   ]
  },
  {
   "cell_type": "code",
   "execution_count": 27,
   "id": "bf3e2f85",
   "metadata": {},
   "outputs": [
    {
     "name": "stdout",
     "output_type": "stream",
     "text": [
      "[[100   2   3   4]\n",
      " [100 100 100 100]\n",
      " [100 100 100 100]]\n"
     ]
    }
   ],
   "source": [
    "arr[1:] = 100\n",
    "print(arr)"
   ]
  },
  {
   "cell_type": "code",
   "execution_count": 29,
   "id": "19107c80",
   "metadata": {},
   "outputs": [
    {
     "name": "stdout",
     "output_type": "stream",
     "text": [
      "3.0\n",
      "1.4142135623730951\n",
      "Normalized data: [-1.41421356 -0.70710678  0.          0.70710678  1.41421356]\n"
     ]
    }
   ],
   "source": [
    "#Stastical concept -- Normalization\n",
    "##to have a mean of 0 and standard deviation of 1\n",
    "data = np.array([1,2,3,4,5])\n",
    "\n",
    "mean = np.mean(data)\n",
    "print(mean)\n",
    "std_dev = np.std(data)\n",
    "print(std_dev)\n",
    "\n",
    "#Normalize the data\n",
    "normalized_data = (data-mean) / std_dev\n",
    "print(\"Normalized data:\" ,normalized_data)"
   ]
  },
  {
   "cell_type": "code",
   "execution_count": 30,
   "id": "ff307cad",
   "metadata": {},
   "outputs": [
    {
     "name": "stdout",
     "output_type": "stream",
     "text": [
      "Mean 5.5\n",
      "Median 5.5\n",
      "Standard Deviation: 2.8722813232690143\n",
      "Variance: 8.25\n"
     ]
    }
   ],
   "source": [
    "data = np.array([1, 2, 3, 4, 5, 6, 7, 8, 9, 10])\n",
    "\n",
    "#Mean\n",
    "mean = np.mean(data)\n",
    "print(\"Mean\", mean)\n",
    "\n",
    "#Median\n",
    "median = np.median(data)\n",
    "print(\"Median\",median)\n",
    "\n",
    "#Standard deviation\n",
    "std_dev = np.std(data)\n",
    "print(\"Standard Deviation:\", std_dev)\n",
    "\n",
    "#Variance\n",
    "variance = np.var(data)\n",
    "print(\"Variance:\",variance)\n"
   ]
  },
  {
   "cell_type": "code",
   "execution_count": 34,
   "id": "826ca0d3",
   "metadata": {},
   "outputs": [
    {
     "name": "stdout",
     "output_type": "stream",
     "text": [
      "[False False False False False  True  True  True  True  True]\n",
      "[ 6  7  8  9 10]\n",
      "[5 6 7 8]\n"
     ]
    }
   ],
   "source": [
    "##Logical operation\n",
    "data = np.array([1,2,3,4,5,6,7,8,9,10])\n",
    "print(data>5)\n",
    "print(data[data>5])\n",
    "print(data[(data>=5) & (data<=8)])"
   ]
  },
  {
   "cell_type": "code",
   "execution_count": null,
   "id": "3e75a05e",
   "metadata": {},
   "outputs": [],
   "source": []
  }
 ],
 "metadata": {
  "kernelspec": {
   "display_name": "Python 3",
   "language": "python",
   "name": "python3"
  },
  "language_info": {
   "codemirror_mode": {
    "name": "ipython",
    "version": 3
   },
   "file_extension": ".py",
   "mimetype": "text/x-python",
   "name": "python",
   "nbconvert_exporter": "python",
   "pygments_lexer": "ipython3",
   "version": "3.12.0"
  }
 },
 "nbformat": 4,
 "nbformat_minor": 5
}
