{
 "cells": [
  {
   "cell_type": "markdown",
   "metadata": {},
   "source": [
    "# Module: NumPy Assignments\n",
    "## Lesson: NumPy\n"
   ]
  },
  {
   "cell_type": "code",
   "execution_count": 7,
   "metadata": {},
   "outputs": [
    {
     "name": "stdout",
     "output_type": "stream",
     "text": [
      "Original Array\n",
      "[[18  7  9 20 14]\n",
      " [16 10 20  2 13]\n",
      " [ 6 19  5 17 14]\n",
      " [ 3  6  1 12 19]\n",
      " [ 8  9 11  6 16]]\n",
      "Array1 after Modification\n",
      "[[18  7  1 20 14]\n",
      " [16 10  1  2 13]\n",
      " [ 6 19  1 17 14]\n",
      " [ 3  6  1 12 19]\n",
      " [ 8  9  1  6 16]]\n",
      "Printing Original Array\n",
      "[[ 5  1 10  8]\n",
      " [ 9 10 12  1]\n",
      " [10  7 12 12]\n",
      " [14  5 14  7]]\n",
      "[[ 0  1 10  8]\n",
      " [ 9  0 12  1]\n",
      " [10  7  0 12]\n",
      " [14  5 14  0]]\n"
     ]
    }
   ],
   "source": [
    "### Assignment 1: Array Creation and Manipulation\n",
    "\n",
    "# 1. Create a NumPy array of shape (5, 5) filled with random integers between 1 and 20. Replace all the elements in the third column with 1.\n",
    "# 2. Create a NumPy array of shape (4, 4) with values from 1 to 16. Replace the diagonal elements with 0.\n",
    "import numpy as np\n",
    "arr1 = np.random.randint(1,21,size=(5,5))\n",
    "print(\"Original Array\")\n",
    "print(arr1)\n",
    "arr1[:,2]=1\n",
    "print(\"Array1 after Modification\")\n",
    "print(arr1)\n",
    "\n",
    "arr2 = np.random.randint(1,17,size=(4,4))\n",
    "print(\"Printing Original Array\")\n",
    "print(arr2)\n",
    "\n",
    "np.fill_diagonal(arr2,0)\n",
    "print(arr2)"
   ]
  },
  {
   "cell_type": "code",
   "execution_count": 12,
   "id": "a3c708dc",
   "metadata": {},
   "outputs": [
    {
     "name": "stdout",
     "output_type": "stream",
     "text": [
      "Original Array\n",
      "[[19  8 18 23 23  9]\n",
      " [19  1 26 15 36 28]\n",
      " [ 6 10 12 28 14 36]\n",
      " [36 31 18 20  8 18]\n",
      " [13 11 36 14 26 24]\n",
      " [ 3 22 33 15 23 10]]\n",
      "[[18 20  8]\n",
      " [36 14 26]\n",
      " [33 15 23]]\n",
      "Original Array\n",
      "[[41 46 17 64 52]\n",
      " [ 1 88 54 77 99]\n",
      " [39 94 19 91 70]\n",
      " [ 7 40 33 34 55]\n",
      " [59 64 47 72 15]]\n",
      "Border Element [41 46 17 64 52 59 64 47 72 15  1 39  7 99 70 55]\n"
     ]
    }
   ],
   "source": [
    "### Assignment 2: Array Indexing and Slicing\n",
    "\n",
    "# 1. Create a NumPy array of shape (6, 6) with values from 1 to 36. Extract the sub-array consisting of the 3rd to 5th rows and 2nd to 4th columns.\n",
    "# 2. Create a NumPy array of shape (5, 5) with random integers. Extract the elements on the border.\n",
    "\n",
    "arr1 = np.random.randint(1,37,size=(6,6))\n",
    "print(\"Original Array\")\n",
    "print(arr1)\n",
    "print(arr1[3:6,2:5])\n",
    "\n",
    "arr2 = np.random.randint(1,100,size=(5,5))\n",
    "print(\"Original Array\")\n",
    "print(arr2)\n",
    "\n",
    "borders_element = np.concatenate((\n",
    "    arr2[0,:],\n",
    "    arr2[-1,:],\n",
    "    arr2[1:-1,0],\n",
    "    arr2[1:-1,-1]\n",
    "))\n",
    "print(\"Border Element\",borders_element)"
   ]
  },
  {
   "cell_type": "code",
   "execution_count": null,
   "id": "33af4872",
   "metadata": {},
   "outputs": [
    {
     "name": "stdout",
     "output_type": "stream",
     "text": [
      "[[8 1 7 1]\n",
      " [1 3 5 8]\n",
      " [3 9 8 8]]\n",
      "[[18 14 18  4]\n",
      " [12 18  4 10]\n",
      " [10 19  4  4]]\n",
      "Addition of Array\n",
      "[[26 15 25  5]\n",
      " [13 21  9 18]\n",
      " [13 28 12 12]]\n",
      "Substraction of Array\n",
      "[[-10 -13 -11  -3]\n",
      " [-11 -15   1  -2]\n",
      " [ -7 -10   4   4]]\n",
      "Multiplication of Array\n",
      "[[144  14 126   4]\n",
      " [ 12  54  20  80]\n",
      " [ 30 171  32  32]]\n",
      "Division of Array\n",
      "[[0.44444444 0.07142857 0.38888889 0.25      ]\n",
      " [0.08333333 0.16666667 1.25       0.8       ]\n",
      " [0.3        0.47368421 2.         2.        ]]\n"
     ]
    }
   ],
   "source": [
    "### Assignment 3: Array Operations\n",
    "\n",
    "# 1. Create two NumPy arrays of shape (3, 4) filled with random integers. Perform element-wise addition, subtraction, multiplication, and division.\n",
    "\n",
    "arr1 = np.random.randint(1,10,size=(3,4))\n",
    "arr2 = np.random.randint(1,20,size=(3,4))\n",
    "print(arr1)\n",
    "print(arr2)\n",
    "arr_add = arr1+arr2\n",
    "print(\"Addition of Array\")\n",
    "print(arr_add)\n",
    "arr_sub = arr1-arr2\n",
    "print(\"Substraction of Array\")\n",
    "print(arr_sub)\n",
    "arr_mul = arr1*arr2\n",
    "print(\"Multiplication of Array\")\n",
    "print(arr_mul)\n",
    "arr_div = arr1/arr2\n",
    "print(\"Division of Array\")\n",
    "print(arr_div)\n",
    "\n"
   ]
  },
  {
   "cell_type": "code",
   "execution_count": 19,
   "id": "73bce763",
   "metadata": {},
   "outputs": [
    {
     "name": "stdout",
     "output_type": "stream",
     "text": [
      "Original Array\n",
      "[[15 15  3  4]\n",
      " [15  5  3  3]\n",
      " [11  7  2 16]\n",
      " [12 10  3  8]]\n",
      "Row Sum\n",
      "[37 26 36 33]\n",
      "Column Sum\n",
      "[53 37 11 31]\n"
     ]
    }
   ],
   "source": [
    "# 2. Create a NumPy array of shape (4, 4) with values from 1 to 16. Compute the row-wise and column-wise sum.\n",
    "\n",
    "arr  = np.random.randint(1,17,size=(4,4))\n",
    "print(\"Original Array\")\n",
    "print(arr)\n",
    "\n",
    "row_sum = np.sum(arr,axis=1)\n",
    "print(\"Row Sum\")\n",
    "print(row_sum)\n",
    "\n",
    "col_sum = np.sum(arr,axis=0)\n",
    "print(\"Column Sum\")\n",
    "print(col_sum)"
   ]
  },
  {
   "cell_type": "code",
   "execution_count": 20,
   "id": "6d33a4d0",
   "metadata": {},
   "outputs": [
    {
     "name": "stdout",
     "output_type": "stream",
     "text": [
      "Original Array\n",
      "Mean 9.44\n",
      "Median 9.0\n",
      "Standard Deviation 5.776365639396453\n",
      "Variance 33.3664\n"
     ]
    }
   ],
   "source": [
    "### Assignment 4: Statistical Operations\n",
    "\n",
    "# 1. Create a NumPy array of shape (5, 5) filled with random integers. Compute the mean, median, standard deviation, and variance of the array.\n",
    "\n",
    "arr = np.random.randint(1,21,size=(5,5))\n",
    "print(\"Original Array\")\n",
    "\n",
    "arr_mean = np.mean(arr)\n",
    "print(\"Mean\", arr_mean)\n",
    "\n",
    "arr_median = np.median(arr)\n",
    "print(\"Median\",arr_median)\n",
    "\n",
    "arr_std = np.std(arr)\n",
    "print(\"Standard Deviation\",arr_std)\n",
    "\n",
    "arr_var = np.var(arr)\n",
    "print(\"Variance\",arr_var)"
   ]
  },
  {
   "cell_type": "code",
   "execution_count": 21,
   "id": "ab5d7de2",
   "metadata": {},
   "outputs": [
    {
     "name": "stdout",
     "output_type": "stream",
     "text": [
      "Normalization\n",
      "[[ 0.30316953 -0.78824078 -1.87965109]\n",
      " [-0.78824078  1.39457984 -0.24253563]\n",
      " [ 1.39457984  0.30316953  0.30316953]]\n"
     ]
    }
   ],
   "source": [
    "# 2. Create a NumPy array of shape (3, 3) with values from 1 to 9. Normalize the array (i.e., scale the values to have a mean of 0 and a standard deviation of 1).\n",
    "data = np.random.randint(1,10,size=(3,3))\n",
    "mean = np.mean(data)\n",
    "std_dev = np.std(data)\n",
    "nor = (data-mean)/std_dev\n",
    "print(\"Normalization\")\n",
    "print(nor)"
   ]
  },
  {
   "cell_type": "code",
   "execution_count": 4,
   "id": "598499e4",
   "metadata": {},
   "outputs": [
    {
     "name": "stdout",
     "output_type": "stream",
     "text": [
      "[[19  9 18]\n",
      " [ 9 18 16]\n",
      " [ 4  4 15]]\n",
      "[1 2 3]\n",
      "Printing Array after Broadcasting\n",
      "[[20 11 21]\n",
      " [10 20 19]\n",
      " [ 5  6 18]]\n"
     ]
    }
   ],
   "source": [
    "### Assignment 5: Broadcasting\n",
    "\n",
    "# 1. Create a NumPy array of shape (3, 3) filled with random integers. Add a 1D array of shape (3,) to each row of the 2D array using broadcasting.\n",
    "arr = np.random.randint(1,20,size=(3,3))\n",
    "print(arr)\n",
    "vec = np.array([1,2,3])\n",
    "print(vec)\n",
    "result = arr+vec\n",
    "print(\"Printing Array after Broadcasting\")\n",
    "print(result)\n"
   ]
  },
  {
   "cell_type": "code",
   "execution_count": 8,
   "id": "1ea6a1f3",
   "metadata": {},
   "outputs": [
    {
     "name": "stdout",
     "output_type": "stream",
     "text": [
      "[[10 11  9  1]\n",
      " [ 8  5  9 19]\n",
      " [10 10 11 16]\n",
      " [16 15  2  7]]\n",
      "[[ 9 10  8  0]\n",
      " [ 6  3  7 17]\n",
      " [ 7  7  8 13]\n",
      " [12 11 -2  3]]\n"
     ]
    }
   ],
   "source": [
    "# 2. Create a NumPy array of shape (4, 4) filled with random integers. Subtract a 1D array of shape (4,) from each column of the 2D array using broadcasting.\n",
    "arr = np.random.randint(1,20,size=(4,4))\n",
    "print(arr)\n",
    "vec = np.array([1,2,3,4])\n",
    "result = arr-vec.reshape(4,1)\n",
    "print(result)"
   ]
  },
  {
   "cell_type": "code",
   "execution_count": 11,
   "id": "461b417b",
   "metadata": {},
   "outputs": [
    {
     "name": "stdout",
     "output_type": "stream",
     "text": [
      "Original Array\n",
      "[[13  4  7]\n",
      " [ 5 13  2]\n",
      " [12 14  3]]\n",
      "Determinant Array\n",
      "-422.99999999999983\n",
      "Inverse Array\n",
      "[[-0.02600473 -0.20330969  0.19621749]\n",
      " [-0.0212766   0.10638298 -0.0212766 ]\n",
      " [ 0.20330969  0.31678487 -0.35224586]]\n",
      "Eigen Values [23.27949323  7.99362928 -2.27312251]\n",
      "Eigen Vectors [[-0.61653185 -0.72764314 -0.42066641]\n",
      " [-0.42840676  0.67228987  0.01894156]\n",
      " [-0.66057257  0.13624169  0.90701763]]\n"
     ]
    }
   ],
   "source": [
    "### Assignment 6: Linear Algebra\n",
    "\n",
    "# 1. Create a NumPy array of shape (3, 3) representing a matrix. Compute its determinant, inverse, and eigenvalues.\n",
    "\n",
    "Arr = np.random.randint(1,20,size=(3,3))\n",
    "print(\"Original Array\")\n",
    "print(Arr)\n",
    "\n",
    "det_Arr = np.linalg.det(Arr)\n",
    "print(\"Determinant Array\")\n",
    "print(det_Arr)\n",
    "\n",
    "if det_Arr!=0:\n",
    "    inv_Arr = np.linalg.inv(Arr)\n",
    "    print(\"Inverse Array\")\n",
    "    print(inv_Arr)\n",
    "else:\n",
    "    print(\"Inverse Not Exist\")\n",
    "\n",
    "eigenvalues, eigenvectors = np.linalg.eig(Arr)\n",
    "print(\"Eigen Values\",eigenvalues)\n",
    "print(\"Eigen Vectors\",eigenvectors)\n"
   ]
  },
  {
   "cell_type": "code",
   "execution_count": 14,
   "id": "5d8f32f3",
   "metadata": {},
   "outputs": [
    {
     "name": "stdout",
     "output_type": "stream",
     "text": [
      "[[ 4 16  9]\n",
      " [ 1  7 13]]\n",
      "[[19 18]\n",
      " [14 16]\n",
      " [17 16]]\n",
      "[[453 472]\n",
      " [338 338]]\n"
     ]
    }
   ],
   "source": [
    "# 2. Create two NumPy arrays of shape (2, 3) and (3, 2). Perform matrix multiplication on these arrays.\n",
    "arr1 = np.random.randint(1,20,size=(2,3))\n",
    "print(arr1)\n",
    "arr2 = np.random.randint(10,20,size=(3,2))\n",
    "print(arr2)\n",
    "if arr1.shape[1] == arr2.shape[0]:\n",
    "    result = np.dot(arr1,arr2)\n",
    "    print(result)\n",
    "else:\n",
    "    print(\"Multiplication not possible\")\n"
   ]
  },
  {
   "cell_type": "code",
   "execution_count": 16,
   "id": "04d9b7c9",
   "metadata": {},
   "outputs": [
    {
     "name": "stdout",
     "output_type": "stream",
     "text": [
      "[[4 6 8]\n",
      " [8 8 8]\n",
      " [1 3 3]]\n",
      "[[4 6 8 8 8 8 1 3 3]]\n",
      "[[4]\n",
      " [6]\n",
      " [8]\n",
      " [8]\n",
      " [8]\n",
      " [8]\n",
      " [1]\n",
      " [3]\n",
      " [3]]\n"
     ]
    }
   ],
   "source": [
    "### Assignment 7: Advanced Array Manipulation\n",
    "\n",
    "# 1. Create a NumPy array of shape (3, 3) with values from 1 to 9. Reshape the array to shape (1, 9) and then to shape (9, 1).\n",
    "arr1 = np.random.randint(1,9,size=(3,3))\n",
    "print(arr1)\n",
    "print(arr1.reshape(1,9))\n",
    "print(arr1.reshape(9,1))\n"
   ]
  },
  {
   "cell_type": "code",
   "execution_count": 18,
   "id": "af9725cb",
   "metadata": {},
   "outputs": [
    {
     "name": "stdout",
     "output_type": "stream",
     "text": [
      "[[13  3 14  9  7]\n",
      " [19 17 19 10  3]\n",
      " [19  4 18 17  4]\n",
      " [17  5 19 10 18]\n",
      " [15 11  5  6  7]]\n",
      "[13  3 14  9  7 19 17 19 10  3 19  4 18 17  4 17  5 19 10 18 15 11  5  6\n",
      "  7]\n",
      "[[13  3 14  9  7]\n",
      " [19 17 19 10  3]\n",
      " [19  4 18 17  4]\n",
      " [17  5 19 10 18]\n",
      " [15 11  5  6  7]]\n"
     ]
    }
   ],
   "source": [
    "# 2. Create a NumPy array of shape (5, 5) filled with random integers. Flatten the array and then reshape it back to (5, 5).\n",
    "arr2 = np.random.randint(1,20,size=(5,5))\n",
    "print(arr2)\n",
    "flat = arr2.flatten()\n",
    "print(flat)\n",
    "print(flat.reshape(5,5))"
   ]
  },
  {
   "cell_type": "code",
   "execution_count": 4,
   "id": "cfe60a38",
   "metadata": {},
   "outputs": [
    {
     "name": "stdout",
     "output_type": "stream",
     "text": [
      "Original Array:\n",
      "[[ 8  4  7  7 14]\n",
      " [19 17 19  3  3]\n",
      " [13  3 17  3  4]\n",
      " [ 1 19 19 13 15]\n",
      " [ 7 10  6  3 11]]\n",
      "Corners Element\n",
      "[ 8 14  7 11]\n"
     ]
    }
   ],
   "source": [
    "### Assignment 8: Fancy Indexing and Boolean Indexing\n",
    "\n",
    "# 1. Create a NumPy array of shape (5, 5) filled with random integers. Use fancy indexing to extract the elements at the corners of the array.\n",
    "arr = np.random.randint(1,20,size=(5,5))\n",
    "print(\"Original Array:\")\n",
    "print(arr)\n",
    "\n",
    "corners = arr[[0,0,-1,-1],[0,-1,0,-1]]\n",
    "print(\"Corners Element\")\n",
    "print(corners)"
   ]
  },
  {
   "cell_type": "code",
   "execution_count": 5,
   "id": "c15ce276",
   "metadata": {},
   "outputs": [
    {
     "name": "stdout",
     "output_type": "stream",
     "text": [
      "[[ 3 16 18 13]\n",
      " [19  5  2  7]\n",
      " [ 1  6  9  9]\n",
      " [13  2  2  4]]\n",
      "[[ 3 10 10 10]\n",
      " [10  5  2  7]\n",
      " [ 1  6  9  9]\n",
      " [10  2  2  4]]\n"
     ]
    }
   ],
   "source": [
    "# 2. Create a NumPy array of shape (4, 4) filled with random integers. Use boolean indexing to set all elements greater than 10 to 10.\n",
    "arr = np.random.randint(1,20,size=(4,4))\n",
    "print(arr)\n",
    "arr[arr>10] = 10\n",
    "print(arr)"
   ]
  },
  {
   "cell_type": "code",
   "execution_count": 11,
   "id": "3ca7aabd",
   "metadata": {},
   "outputs": [
    {
     "name": "stdout",
     "output_type": "stream",
     "text": [
      "[('Anushka', 25, 55.5) ('Rajat', 28, 68. ) ('Sonia', 22, 42. )\n",
      " ('Salabh', 24, 60. )]\n",
      "[('Sonia', 22, 42. ) ('Salabh', 24, 60. ) ('Anushka', 25, 55.5)\n",
      " ('Rajat', 28, 68. )]\n"
     ]
    }
   ],
   "source": [
    "### Assignment 9: Structured Arrays\n",
    "\n",
    "# 1. Create a structured array with fields 'name' (string), 'age' (integer), and 'weight' (float). Add some data and sort the array by age.\n",
    "dtypes = [('name','U10'),('age','i4'),('weight','f4')]\n",
    "data = np.array([\n",
    "    ('Anushka',25,55.5),\n",
    "    ('Rajat',28,68.0),\\\n",
    "    ('Sonia',22,42.0),\n",
    "    ('Salabh',24,60.0)\n",
    "],dtypes)\n",
    "\n",
    "print(data)\n",
    "sorted_data = np.sort(data,order = 'age')\n",
    "print(sorted_data)"
   ]
  },
  {
   "cell_type": "code",
   "execution_count": 15,
   "id": "0cb5ed2d",
   "metadata": {},
   "outputs": [
    {
     "name": "stdout",
     "output_type": "stream",
     "text": [
      "[ 2.23606798  5.         10.          2.23606798]\n"
     ]
    }
   ],
   "source": [
    "# 2. Create a structured array with fields 'x' and 'y' (both integers). Add some data and compute the Euclidean distance between each pair of points.\n",
    "dtypes = [('x','i4'),('y','i4')]\n",
    "points = np.array([\n",
    "    (1,2),\n",
    "    (3,4),\n",
    "    (6,8),\n",
    "    (2,1)\n",
    "],dtypes)\n",
    "\n",
    "distance = np.sqrt(points['x']**2+points['y']**2)\n",
    "print(distance)"
   ]
  },
  {
   "cell_type": "code",
   "execution_count": 17,
   "id": "2d16c61c",
   "metadata": {},
   "outputs": [
    {
     "name": "stdout",
     "output_type": "stream",
     "text": [
      "[[10 7 -- 3]\n",
      " [-- -- 8 1]\n",
      " [-- -- 10 1]\n",
      " [-- 1 5 --]]\n",
      "46\n"
     ]
    }
   ],
   "source": [
    "### Assignment 10: Masked Arrays\n",
    "\n",
    "# 1. Create a masked array of shape (4, 4) with random integers and mask the elements greater than 10. Compute the sum of the unmasked elements.\n",
    "arr = np.random.randint(1,20,size=(4,4))\n",
    "masked_arr = np.ma.masked_greater(arr,10)\n",
    "print(masked_arr)\n",
    "\n",
    "sum_unmasked = masked_arr.sum()\n",
    "print(sum_unmasked)"
   ]
  },
  {
   "cell_type": "code",
   "execution_count": 21,
   "id": "9da3fa0d",
   "metadata": {},
   "outputs": [
    {
     "name": "stdout",
     "output_type": "stream",
     "text": [
      "Original Array\n",
      "[[9 8 9]\n",
      " [6 3 8]\n",
      " [9 2 9]]\n",
      "Maked_Array\n",
      "[[-- 8 9]\n",
      " [6 -- 8]\n",
      " [9 2 --]]\n",
      "[[7 8 9]\n",
      " [6 7 8]\n",
      " [9 2 7]]\n"
     ]
    }
   ],
   "source": [
    "# 2. Create a masked array of shape (3, 3) with random integers and mask the diagonal elements. Replace the masked elements with the mean of the unmasked elements.\n",
    "arr = np.random.randint(1,10,size=(3,3))\n",
    "print(\"Original Array\")\n",
    "print(arr)\n",
    "\n",
    "masked_arr = np.ma.array(arr,mask = np.eye(3,dtype=bool))\n",
    "print(\"Maked_Array\")\n",
    "print(masked_arr)\n",
    "\n",
    "mean_val = masked_arr.mean()\n",
    "\n",
    "filled_val = masked_arr.filled(mean_val)\n",
    "print(filled_val)"
   ]
  },
  {
   "cell_type": "code",
   "execution_count": null,
   "id": "82e8544b",
   "metadata": {},
   "outputs": [],
   "source": []
  }
 ],
 "metadata": {
  "kernelspec": {
   "display_name": "Python 3",
   "language": "python",
   "name": "python3"
  },
  "language_info": {
   "codemirror_mode": {
    "name": "ipython",
    "version": 3
   },
   "file_extension": ".py",
   "mimetype": "text/x-python",
   "name": "python",
   "nbconvert_exporter": "python",
   "pygments_lexer": "ipython3",
   "version": "3.12.0"
  }
 },
 "nbformat": 4,
 "nbformat_minor": 5
}
