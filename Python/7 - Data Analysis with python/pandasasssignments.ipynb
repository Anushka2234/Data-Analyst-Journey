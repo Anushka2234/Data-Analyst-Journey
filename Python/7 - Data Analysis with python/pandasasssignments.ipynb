{
 "cells": [
  {
   "cell_type": "markdown",
   "metadata": {},
   "source": [
    "# Module: Pandas Assignments\n",
    "## Lesson: Pandas\n"
   ]
  },
  {
   "cell_type": "code",
   "execution_count": 4,
   "metadata": {},
   "outputs": [
    {
     "name": "stdout",
     "output_type": "stream",
     "text": [
      "    A   B   C   D\n",
      "0   4  19   5   6\n",
      "1  13   7  16   2\n",
      "2  15   5   3  19\n",
      "3  14   4   3  17\n",
      "4   5   1  18  14\n",
      "5  16  13   7  16\n",
      "     B   C   D\n",
      "A             \n",
      "4   19   5   6\n",
      "13   7  16   2\n",
      "15   5   3  19\n",
      "14   4   3  17\n",
      "5    1  18  14\n",
      "16  13   7  16\n"
     ]
    }
   ],
   "source": [
    "### Assignment 1: DataFrame Creation and Indexing\n",
    "\n",
    "# 1. Create a Pandas DataFrame with 4 columns and 6 rows filled with random integers. Set the index to be the first column.\n",
    "import pandas as pd\n",
    "import numpy as np\n",
    "data = np.random.randint(1,20,size=(6,4))\n",
    "df = pd.DataFrame(data,columns=['A','B','C','D'])\n",
    "print(df)\n",
    "df.set_index('A',inplace=True)\n",
    "print(df)"
   ]
  },
  {
   "cell_type": "code",
   "execution_count": 10,
   "id": "8d636159",
   "metadata": {},
   "outputs": [
    {
     "name": "stdout",
     "output_type": "stream",
     "text": [
      "    A   B   C\n",
      "X   2  17   2\n",
      "Y  19  17   8\n",
      "Z  11  11  10\n",
      "17\n"
     ]
    }
   ],
   "source": [
    "# 2. Create a Pandas DataFrame with columns 'A', 'B', 'C' and index 'X', 'Y', 'Z'. Fill the DataFrame with random integers and access the element at row 'Y' and column 'B'.\n",
    "arr = np.random.randint(1,20,size=(3,3))\n",
    "df = pd.DataFrame(arr,columns=['A','B','C'],index=['X','Y','Z'])\n",
    "print(df)\n",
    "value = df.loc['Y','B']\n",
    "print(value)\n"
   ]
  },
  {
   "cell_type": "code",
   "execution_count": 12,
   "id": "e6107202",
   "metadata": {},
   "outputs": [
    {
     "name": "stdout",
     "output_type": "stream",
     "text": [
      "    A   B   C\n",
      "0  12  19  15\n",
      "1   4  16  12\n",
      "2  16  17  16\n",
      "3   2  10  12\n",
      "4   2   2  18\n",
      "    A   B   C    D\n",
      "0  12  19  15  228\n",
      "1   4  16  12   64\n",
      "2  16  17  16  272\n",
      "3   2  10  12   20\n",
      "4   2   2  18    4\n"
     ]
    }
   ],
   "source": [
    "### Assignment 2: DataFrame Operations\n",
    "\n",
    "# 1. Create a Pandas DataFrame with 3 columns and 5 rows filled with random integers. Add a new column that is the product of the first two columns.\n",
    "\n",
    "data = np.random.randint(1,20,size=(5,3))\n",
    "df = pd.DataFrame(data,columns=['A','B','C'])\n",
    "print(df)\n",
    "df['D'] = df['A'] * df['B']\n",
    "print(df)"
   ]
  },
  {
   "cell_type": "code",
   "execution_count": 15,
   "id": "f2dacb20",
   "metadata": {},
   "outputs": [
    {
     "name": "stdout",
     "output_type": "stream",
     "text": [
      "    A   B   C\n",
      "0   7  16  16\n",
      "1  10  14   2\n",
      "2  16   8   9\n",
      "3  16   8   2\n",
      "Column-wise sum:\n",
      " A    49\n",
      "B    46\n",
      "C    29\n",
      "dtype: int64\n",
      "Row-wise sum:\n",
      " 0    39\n",
      "1    26\n",
      "2    33\n",
      "3    26\n",
      "dtype: int64\n"
     ]
    }
   ],
   "source": [
    "# 2. Create a Pandas DataFrame with 3 columns and 4 rows filled with random integers. Compute the row-wise and column-wise sum.\n",
    "df = pd.DataFrame(np.random.randint(1,20,size=(4,3)),columns=['A','B','C'])\n",
    "print(df)\n",
    "col_sum = df.sum()\n",
    "print(\"Column-wise sum:\\n\",col_sum)\n",
    "row_sum = df.sum(axis=1)\n",
    "print(\"Row-wise sum:\\n\",row_sum)\n"
   ]
  },
  {
   "cell_type": "code",
   "execution_count": 18,
   "id": "c72a067a",
   "metadata": {},
   "outputs": [
    {
     "name": "stdout",
     "output_type": "stream",
     "text": [
      "   A  B  C\n",
      "0  6  4  7\n",
      "1  2  3  5\n",
      "2  1  3  9\n",
      "3  6  4  9\n",
      "4  4  2  8\n",
      "   A    B    C\n",
      "0  6  NaN  7.0\n",
      "1  2  3.0  5.0\n",
      "2  1  3.0  NaN\n",
      "3  6  NaN  9.0\n",
      "4  4  2.0  8.0\n",
      "   A         B     C\n",
      "0  6  2.666667  7.00\n",
      "1  2  3.000000  5.00\n",
      "2  1  3.000000  7.25\n",
      "3  6  2.666667  9.00\n",
      "4  4  2.000000  8.00\n"
     ]
    }
   ],
   "source": [
    "### Assignment 3: Data Cleaning\n",
    "\n",
    "# 1. Create a Pandas DataFrame with 3 columns and 5 rows filled with random integers. Introduce some NaN values. Fill the NaN values with the mean of the respective columns.\n",
    "\n",
    "df = pd.DataFrame(np.random.randint(1,10,size=(5,3)),columns=['A','B','C'])\n",
    "print(df)\n",
    "\n",
    "for _ in range(3):\n",
    "    i = np.random.randint(0,5)\n",
    "    j = np.random.randint(0,3)\n",
    "    df.iat[i,j] = np.nan\n",
    "print(df)\n",
    "\n",
    "df_filled = df.fillna(df.mean(numeric_only = True))\n",
    "print(df_filled)"
   ]
  },
  {
   "cell_type": "code",
   "execution_count": 20,
   "id": "7bd91c45",
   "metadata": {},
   "outputs": [
    {
     "name": "stdout",
     "output_type": "stream",
     "text": [
      "   A  B  C  D\n",
      "0  6  4  9  3\n",
      "1  6  3  3  9\n",
      "2  8  2  3  4\n",
      "3  5  3  7  3\n",
      "4  7  8  7  3\n",
      "5  2  5  6  6\n",
      "   A    B    C  D\n",
      "0  6  4.0  9.0  3\n",
      "1  6  3.0  3.0  9\n",
      "2  8  NaN  3.0  4\n",
      "3  5  3.0  NaN  3\n",
      "4  7  NaN  7.0  3\n",
      "5  2  5.0  6.0  6\n",
      "   A    B    C  D\n",
      "0  6  4.0  9.0  3\n",
      "1  6  3.0  3.0  9\n",
      "5  2  5.0  6.0  6\n"
     ]
    }
   ],
   "source": [
    "# 2. Create a Pandas DataFrame with 4 columns and 6 rows filled with random integers. Introduce some NaN values. Drop the rows with any NaN values.\n",
    "df = pd.DataFrame(np.random.randint(1,10,size=(6,4)),columns=['A','B','C','D'])\n",
    "print(df)\n",
    "\n",
    "for _ in range(3):\n",
    "    i = np.random.randint(0,6)\n",
    "    j = np.random.randint(0,4)\n",
    "    df.iat[i,j] = np.nan\n",
    "print(df)\n",
    "\n",
    "df_cleaned = df.dropna()\n",
    "print(df_cleaned)"
   ]
  },
  {
   "cell_type": "code",
   "execution_count": 23,
   "id": "98ccc809",
   "metadata": {},
   "outputs": [
    {
     "name": "stdout",
     "output_type": "stream",
     "text": [
      "  Category  Value\n",
      "0        B     18\n",
      "1        A      3\n",
      "2        C     19\n",
      "3        C      4\n",
      "4        C     14\n",
      "5        B     11\n",
      "6        C     15\n",
      "7        B      7\n",
      "8        C     12\n",
      "9        C      7\n",
      "          sum       mean\n",
      "Category                \n",
      "A           3   3.000000\n",
      "B          36  12.000000\n",
      "C          71  11.833333\n"
     ]
    }
   ],
   "source": [
    "### Assignment 4: Data Aggregation\n",
    "\n",
    "# 1. Create a Pandas DataFrame with 2 columns: 'Category' and 'Value'. Fill the 'Category' column with random categories ('A', 'B', 'C') and the 'Value' column with random integers. Group the DataFrame by 'Category' and compute the sum and mean of 'Value' for each category.\n",
    "\n",
    "category = np.random.choice(['A','B','C'],size=10)\n",
    "value = np.random.randint(1,21,size=10)\n",
    "df = pd.DataFrame({\n",
    "    'Category':category,\n",
    "    'Value':value\n",
    "})\n",
    "print(df)\n",
    "result = df.groupby('Category')['Value'].agg(['sum','mean'])\n",
    "print(result)"
   ]
  },
  {
   "cell_type": "code",
   "execution_count": 26,
   "id": "97a05d43",
   "metadata": {},
   "outputs": [
    {
     "name": "stdout",
     "output_type": "stream",
     "text": [
      "  Product Category  Sales\n",
      "0       C     Best     38\n",
      "1       A     Good     93\n",
      "2       B     Best     95\n",
      "3       C      Bad     55\n",
      "4       C      Bad     51\n",
      "5       B     Best     84\n",
      "6       C     Good     33\n",
      "7       C      Bad     58\n",
      "8       C      Bad     87\n",
      "9       A     Good     36\n",
      "Category\n",
      "Bad     251\n",
      "Best    217\n",
      "Good    162\n",
      "Name: Sales, dtype: int32\n"
     ]
    }
   ],
   "source": [
    "# 2. Create a Pandas DataFrame with 3 columns: 'Product', 'Category', and 'Sales'. Fill the DataFrame with random data. Group the DataFrame by 'Category' and compute the total sales for each category.\n",
    "product = np.random.choice(['A','B','C'],size=10)\n",
    "category = np.random.choice(['Good','Bad','Best'],size=10)\n",
    "sales = np.random.randint(20,100,size=10)\n",
    "df = pd.DataFrame({\n",
    "    'Product':product,\n",
    "    'Category':category,\n",
    "    'Sales':sales\n",
    "})\n",
    "print(df)\n",
    "\n",
    "result = df.groupby('Category')['Sales'].sum()\n",
    "print(result)"
   ]
  },
  {
   "cell_type": "code",
   "execution_count": 30,
   "id": "70162243",
   "metadata": {},
   "outputs": [
    {
     "name": "stdout",
     "output_type": "stream",
     "text": [
      "   ID  Score  Name\n",
      "0   2     73   Anu\n",
      "1   3     57  Kanu\n",
      "2   4     89  Tanu\n"
     ]
    }
   ],
   "source": [
    "### Assignment 5: Merging DataFrames\n",
    "\n",
    "# 1. Create two Pandas DataFrames with a common column. Merge the DataFrames using the common column.\n",
    "df1 = pd.DataFrame({\n",
    "    'ID':[1, 2, 3, 4],\n",
    "    'Score':[86, 73, 57, 89]\n",
    "})\n",
    "\n",
    "df2 = pd.DataFrame({\n",
    "    'ID':[2,3,4,6],\n",
    "    'Name':['Anu','Kanu','Tanu','Sanu']\n",
    "})\n",
    "merged_df = pd.merge(df1, df2, on='ID', how='inner')\n",
    "print(merged_df)"
   ]
  },
  {
   "cell_type": "code",
   "execution_count": 31,
   "id": "0924f0e0",
   "metadata": {},
   "outputs": [
    {
     "name": "stdout",
     "output_type": "stream",
     "text": [
      "Along Row\n",
      "   ID  Score\n",
      "0   1     47\n",
      "1   2     48\n",
      "2   3     59\n",
      "3   4     60\n",
      "4   2     45\n",
      "5   3     54\n",
      "6   4     56\n",
      "7   5     65\n",
      "Along Column\n",
      "   ID  Score  ID  Score\n",
      "0   1     47   2     45\n",
      "1   2     48   3     54\n",
      "2   3     59   4     56\n",
      "3   4     60   5     65\n"
     ]
    }
   ],
   "source": [
    "# 2. Create two Pandas DataFrames with different columns. Concatenate the DataFrames along the rows and along the columns.\n",
    "df1 = pd.DataFrame({\n",
    "    'ID':[1, 2, 3, 4],\n",
    "    'Score':[47,48,59,60]\n",
    "})\n",
    "df2 = pd.DataFrame({\n",
    "    'ID':[2,3,4,5],\n",
    "    'Score':[45,54,56,65]\n",
    "})\n",
    "result_row = pd.concat([df1,df2],axis=0,ignore_index = True)\n",
    "print(\"Along Row\")\n",
    "print(result_row)\n",
    "\n",
    "result_col = pd.concat([df1,df2],axis=1)\n",
    "print(\"Along Column\")\n",
    "print(result_col)"
   ]
  },
  {
   "cell_type": "code",
   "execution_count": 36,
   "id": "3fd4a0e6",
   "metadata": {},
   "outputs": [
    {
     "name": "stdout",
     "output_type": "stream",
     "text": [
      "                Value\n",
      "2025-01-31   9.548387\n",
      "2025-02-28   9.214286\n",
      "2025-03-31   9.064516\n",
      "2025-04-30  10.400000\n",
      "2025-05-31   9.709677\n",
      "2025-06-30   9.533333\n"
     ]
    },
    {
     "name": "stderr",
     "output_type": "stream",
     "text": [
      "C:\\Users\\rajat\\AppData\\Local\\Temp\\ipykernel_10312\\2586435998.py:7: FutureWarning: 'M' is deprecated and will be removed in a future version, please use 'ME' instead.\n",
      "  monthly_mean = df.resample('M').mean()\n"
     ]
    }
   ],
   "source": [
    "### Assignment 6: Time Series Analysis\n",
    "\n",
    "# 1. Create a Pandas DataFrame with a datetime index and one column filled with random integers. Resample the DataFrame to compute the monthly mean of the values.\n",
    "dates = pd.date_range(start=\"2025-01-01\",end=\"2025-06-30\",freq=\"D\")\n",
    "value = np.random.randint(1,20,size=len(dates))\n",
    "df = pd.DataFrame({'Value':value},index=dates)\n",
    "monthly_mean = df.resample('M').mean()\n",
    "print(monthly_mean)"
   ]
  },
  {
   "cell_type": "code",
   "execution_count": 38,
   "id": "c0870c3c",
   "metadata": {},
   "outputs": [
    {
     "name": "stdout",
     "output_type": "stream",
     "text": [
      "            Value  7-Day-Mean\n",
      "2021-01-01      9         NaN\n",
      "2021-01-02      2         NaN\n",
      "2021-01-03      5         NaN\n",
      "2021-01-04     10         NaN\n",
      "2021-01-05      3         NaN\n",
      "...           ...         ...\n",
      "2021-12-27      7    7.571429\n",
      "2021-12-28      2    7.000000\n",
      "2021-12-29     12    7.714286\n",
      "2021-12-30     13    7.285714\n",
      "2021-12-31      1    6.285714\n",
      "\n",
      "[365 rows x 2 columns]\n"
     ]
    },
    {
     "data": {
      "text/html": [
       "<div>\n",
       "<style scoped>\n",
       "    .dataframe tbody tr th:only-of-type {\n",
       "        vertical-align: middle;\n",
       "    }\n",
       "\n",
       "    .dataframe tbody tr th {\n",
       "        vertical-align: top;\n",
       "    }\n",
       "\n",
       "    .dataframe thead th {\n",
       "        text-align: right;\n",
       "    }\n",
       "</style>\n",
       "<table border=\"1\" class=\"dataframe\">\n",
       "  <thead>\n",
       "    <tr style=\"text-align: right;\">\n",
       "      <th></th>\n",
       "      <th>Value</th>\n",
       "      <th>7-Day-Mean</th>\n",
       "    </tr>\n",
       "  </thead>\n",
       "  <tbody>\n",
       "    <tr>\n",
       "      <th>2021-01-01</th>\n",
       "      <td>9</td>\n",
       "      <td>NaN</td>\n",
       "    </tr>\n",
       "    <tr>\n",
       "      <th>2021-01-02</th>\n",
       "      <td>2</td>\n",
       "      <td>NaN</td>\n",
       "    </tr>\n",
       "    <tr>\n",
       "      <th>2021-01-03</th>\n",
       "      <td>5</td>\n",
       "      <td>NaN</td>\n",
       "    </tr>\n",
       "    <tr>\n",
       "      <th>2021-01-04</th>\n",
       "      <td>10</td>\n",
       "      <td>NaN</td>\n",
       "    </tr>\n",
       "    <tr>\n",
       "      <th>2021-01-05</th>\n",
       "      <td>3</td>\n",
       "      <td>NaN</td>\n",
       "    </tr>\n",
       "    <tr>\n",
       "      <th>2021-01-06</th>\n",
       "      <td>13</td>\n",
       "      <td>NaN</td>\n",
       "    </tr>\n",
       "    <tr>\n",
       "      <th>2021-01-07</th>\n",
       "      <td>13</td>\n",
       "      <td>7.857143</td>\n",
       "    </tr>\n",
       "    <tr>\n",
       "      <th>2021-01-08</th>\n",
       "      <td>14</td>\n",
       "      <td>8.571429</td>\n",
       "    </tr>\n",
       "    <tr>\n",
       "      <th>2021-01-09</th>\n",
       "      <td>19</td>\n",
       "      <td>11.000000</td>\n",
       "    </tr>\n",
       "    <tr>\n",
       "      <th>2021-01-10</th>\n",
       "      <td>4</td>\n",
       "      <td>10.857143</td>\n",
       "    </tr>\n",
       "    <tr>\n",
       "      <th>2021-01-11</th>\n",
       "      <td>1</td>\n",
       "      <td>9.571429</td>\n",
       "    </tr>\n",
       "    <tr>\n",
       "      <th>2021-01-12</th>\n",
       "      <td>1</td>\n",
       "      <td>9.285714</td>\n",
       "    </tr>\n",
       "    <tr>\n",
       "      <th>2021-01-13</th>\n",
       "      <td>3</td>\n",
       "      <td>7.857143</td>\n",
       "    </tr>\n",
       "    <tr>\n",
       "      <th>2021-01-14</th>\n",
       "      <td>12</td>\n",
       "      <td>7.714286</td>\n",
       "    </tr>\n",
       "    <tr>\n",
       "      <th>2021-01-15</th>\n",
       "      <td>10</td>\n",
       "      <td>7.142857</td>\n",
       "    </tr>\n",
       "  </tbody>\n",
       "</table>\n",
       "</div>"
      ],
      "text/plain": [
       "            Value  7-Day-Mean\n",
       "2021-01-01      9         NaN\n",
       "2021-01-02      2         NaN\n",
       "2021-01-03      5         NaN\n",
       "2021-01-04     10         NaN\n",
       "2021-01-05      3         NaN\n",
       "2021-01-06     13         NaN\n",
       "2021-01-07     13    7.857143\n",
       "2021-01-08     14    8.571429\n",
       "2021-01-09     19   11.000000\n",
       "2021-01-10      4   10.857143\n",
       "2021-01-11      1    9.571429\n",
       "2021-01-12      1    9.285714\n",
       "2021-01-13      3    7.857143\n",
       "2021-01-14     12    7.714286\n",
       "2021-01-15     10    7.142857"
      ]
     },
     "execution_count": 38,
     "metadata": {},
     "output_type": "execute_result"
    }
   ],
   "source": [
    "# 2. Create a Pandas DataFrame with a datetime index ranging from '2021-01-01' to '2021-12-31' and one column filled with random integers. Compute the rolling mean with a window of 7 days.\n",
    "dates = pd.date_range(start=\"2021-01-01\",end=\"2021-12-31\",freq=\"D\")\n",
    "Value = np.random.randint(1,20,size=len(dates))\n",
    "df = pd.DataFrame({'Value':Value},index=dates)\n",
    "df['7-Day-Mean'] = df['Value'].rolling(window=7).mean()\n",
    "print(df)\n",
    "df.head(15)"
   ]
  },
  {
   "cell_type": "code",
   "execution_count": 39,
   "id": "c29468ad",
   "metadata": {},
   "outputs": [
    {
     "name": "stdout",
     "output_type": "stream",
     "text": [
      "            Sales\n",
      "Year Month       \n",
      "2023 Jan       86\n",
      "     Feb       75\n",
      "     Mar       29\n",
      "2024 Jan       92\n",
      "     Feb        5\n",
      "     Mar       41\n"
     ]
    }
   ],
   "source": [
    "### Assignment 7: MultiIndex DataFrame\n",
    "\n",
    "#Example of MultiIndexing\n",
    "arrays = [\n",
    "    [2023,2023,2023,2024,2024,2024],\n",
    "    ['Jan','Feb','Mar','Jan','Feb','Mar']\n",
    "    ]\n",
    "index = pd.MultiIndex.from_arrays(arrays,names=('Year','Month'))\n",
    "df = pd.DataFrame({'Sales': np.random.randint(1,100,size=6)},index=index)\n",
    "print(df)"
   ]
  },
  {
   "cell_type": "code",
   "execution_count": 48,
   "id": "dbf4b07e",
   "metadata": {},
   "outputs": [
    {
     "name": "stdout",
     "output_type": "stream",
     "text": [
      "                    Population     GDP\n",
      "Country State                         \n",
      "USA     New York         78275  183565\n",
      "        Texas            17072  161544\n",
      "        California       13355   50948\n",
      "Canada  Toronto          56586  193595\n",
      "        Quebec           72688   75799\n",
      "        Vancouver        30443   52521\n",
      "            Population     GDP\n",
      "State                         \n",
      "New York         78275  183565\n",
      "Texas            17072  161544\n",
      "California       13355   50948\n",
      "Population    72688\n",
      "GDP           75799\n",
      "Name: (Canada, Quebec), dtype: int32\n",
      "Country  State   \n",
      "USA      New York    78275\n",
      "Canada   Toronto     56586\n",
      "Name: Population, dtype: int32\n"
     ]
    }
   ],
   "source": [
    "# 1. Create a Pandas DataFrame with a MultiIndex (hierarchical index). Perform some basic indexing and slicing operations on the MultiIndex DataFrame.\n",
    "arrays = [\n",
    "    ['USA','USA','USA','Canada','Canada','Canada'],\n",
    "    ['New York','Texas','California','Toronto','Quebec','Vancouver']\n",
    "]\n",
    "\n",
    "index = pd.MultiIndex.from_arrays(arrays,names=('Country','State'))\n",
    "data = {\n",
    "    'Population':np.random.randint(10000,100000,size=6),\n",
    "    'GDP':np.random.randint(50000,200000,size=6)\n",
    "}\n",
    "df = pd.DataFrame(data,index=index)\n",
    "print(df)\n",
    "\n",
    "#All Rows for top level Index value\n",
    "print(df.loc['USA'])\n",
    "\n",
    "#Select specific nested Index\n",
    "print(df.loc[('Canada','Quebec')])\n",
    "\n",
    "#select all countries but specific state\n",
    "print(df.loc[(slice(None), ['New York', 'Toronto']), 'Population'])\n",
    "\n",
    "\n"
   ]
  },
  {
   "cell_type": "code",
   "execution_count": 51,
   "id": "e51e4b83",
   "metadata": {},
   "outputs": [
    {
     "name": "stdout",
     "output_type": "stream",
     "text": [
      "Sum by Category\n",
      "          Q1  Q2  Q3\n",
      "Category            \n",
      "Fruit     50  37  43\n",
      "Veg       32  52  46\n",
      "Sum by Sub Category\n",
      "             Q1  Q2  Q3\n",
      "SubCategory            \n",
      "Apple         8   1  29\n",
      "Banana        2  20  13\n",
      "Orange       40  16   1\n",
      "Potato        3  18  32\n",
      "Tomato       29  34  14\n"
     ]
    }
   ],
   "source": [
    "# 2. Create a Pandas DataFrame with MultiIndex consisting of 'Category' and 'SubCategory'. Fill the DataFrame with random data and compute the sum of values for each 'Category' and 'SubCategory'.\n",
    "\n",
    "categories    = ['Fruit', 'Fruit', 'Fruit', 'Veg', 'Veg']\n",
    "subcategories = ['Apple', 'Banana', 'Orange', 'Tomato', 'Potato']\n",
    "index = pd.MultiIndex.from_arrays([categories,subcategories],names=['Category','SubCategory'])\n",
    "data = np.random.randint(1,50,size=(5,3))\n",
    "df = pd.DataFrame(data,index=index,columns=['Q1','Q2','Q3'])\n",
    "print(\"Sum by Category\")\n",
    "print(df.groupby(level='Category').sum())\n",
    "print(\"Sum by Sub Category\")\n",
    "print(df.groupby(level='SubCategory').sum())\n"
   ]
  },
  {
   "cell_type": "code",
   "execution_count": 57,
   "id": "c2452ff6",
   "metadata": {},
   "outputs": [
    {
     "name": "stdout",
     "output_type": "stream",
     "text": [
      "        Date Category  Value\n",
      "0 2025-01-01        A     87\n",
      "1 2025-01-02        C     31\n",
      "2 2025-01-03        B     75\n",
      "3 2025-01-04        A     68\n",
      "4 2025-01-05        B     50\n",
      "5 2025-01-06        A     35\n",
      "Category       A     B     C\n",
      "Date                        \n",
      "2025-01-01  87.0   NaN   NaN\n",
      "2025-01-02   NaN   NaN  31.0\n",
      "2025-01-03   NaN  75.0   NaN\n",
      "2025-01-04  68.0   NaN   NaN\n",
      "2025-01-05   NaN  50.0   NaN\n",
      "2025-01-06  35.0   NaN   NaN\n"
     ]
    }
   ],
   "source": [
    "### Assignment 8: Pivot Tables\n",
    "\n",
    "# 1. Create a Pandas DataFrame with columns 'Date', 'Category', and 'Value'. Create a pivot table to compute the sum of 'Value' for each 'Category' by 'Date'.\n",
    "\n",
    "date = pd.date_range(start=\"2025-01-01\",periods=6,freq=\"D\")\n",
    "category = np.random.choice(['A','B','C'],size=6)\n",
    "value = np.random.randint(1,100,size=6)\n",
    "\n",
    "df = pd.DataFrame({\n",
    "    'Date': date,\n",
    "    'Category': category,\n",
    "    'Value':value\n",
    "})\n",
    "print(df)\n",
    "pivot = pd.pivot_table(\n",
    "    df,\n",
    "    index = 'Date',\n",
    "    columns = 'Category',\n",
    "    values = 'Value',\n",
    "    aggfunc = 'sum'\n",
    ")\n",
    "print(pivot)"
   ]
  },
  {
   "cell_type": "code",
   "execution_count": 61,
   "id": "068784b2",
   "metadata": {},
   "outputs": [
    {
     "name": "stdout",
     "output_type": "stream",
     "text": [
      "    Year Quarter  Revenue\n",
      "0   2022      Q2    16962\n",
      "1   2023      Q1    18277\n",
      "2   2021      Q1    16517\n",
      "3   2022      Q4    11029\n",
      "4   2022      Q4    19982\n",
      "5   2023      Q4    15313\n",
      "6   2022      Q3    18069\n",
      "7   2022      Q3    16098\n",
      "8   2023      Q2    13000\n",
      "9   2022      Q1    10970\n",
      "10  2021      Q1    12944\n",
      "11  2021      Q3    18646\n",
      "Quarter       Q1       Q2       Q3       Q4\n",
      "Year                                       \n",
      "2021     14730.5      NaN  18646.0      NaN\n",
      "2022     10970.0  16962.0  17083.5  15505.5\n",
      "2023     18277.0  13000.0      NaN  15313.0\n"
     ]
    }
   ],
   "source": [
    "# 2. Create a Pandas DataFrame with columns 'Year', 'Quarter', and 'Revenue'. Create a pivot table to compute the mean 'Revenue' for each 'Quarter' by 'Year'.\n",
    "year = np.random.choice([2021,2022,2023],size=12)\n",
    "quarter = np.random.choice(['Q1','Q2','Q3','Q4'],size=12)\n",
    "revenue = np.random.randint(10000,20000,size=12)\n",
    "\n",
    "df = pd.DataFrame({\n",
    "    'Year':year,\n",
    "    'Quarter':quarter,\n",
    "    'Revenue':revenue\n",
    "})\n",
    "print(df)\n",
    "\n",
    "pivot = pd.pivot_table(\n",
    "    df,\n",
    "    index = 'Year',\n",
    "    columns = 'Quarter',\n",
    "    values = 'Revenue',\n",
    "    aggfunc = 'mean'\n",
    ")\n",
    "print(pivot)"
   ]
  },
  {
   "cell_type": "code",
   "execution_count": 63,
   "id": "f6be79cf",
   "metadata": {},
   "outputs": [
    {
     "name": "stdout",
     "output_type": "stream",
     "text": [
      "    0   1   2\n",
      "0   4  10   1\n",
      "1   4  19  17\n",
      "2  10   4  17\n",
      "3  14  19  12\n",
      "4  11  18   7\n",
      "    0   1   2\n",
      "0   8  20   2\n",
      "1   8  38  34\n",
      "2  20   8  34\n",
      "3  28  38  24\n",
      "4  22  36  14\n"
     ]
    },
    {
     "name": "stderr",
     "output_type": "stream",
     "text": [
      "C:\\Users\\rajat\\AppData\\Local\\Temp\\ipykernel_10312\\739513803.py:7: FutureWarning: DataFrame.applymap has been deprecated. Use DataFrame.map instead.\n",
      "  df_doubled = df.applymap(lambda x:x*2)\n"
     ]
    }
   ],
   "source": [
    "### Assignment 9: Applying Functions\n",
    "\n",
    "# 1. Create a Pandas DataFrame with 3 columns and 5 rows filled with random integers. Apply a function that doubles the values of the DataFrame.\n",
    "\n",
    "df = pd.DataFrame(np.random.randint(1,20,size=(5,3)))\n",
    "print(df)\n",
    "df_doubled = df.applymap(lambda x:x*2)\n",
    "print(df_doubled)"
   ]
  },
  {
   "cell_type": "code",
   "execution_count": 65,
   "id": "c04b6d83",
   "metadata": {},
   "outputs": [
    {
     "name": "stdout",
     "output_type": "stream",
     "text": [
      "    0   1   2  Sum\n",
      "0  10   4  17   31\n",
      "1   9  14  12   35\n",
      "2  19   3  15   37\n",
      "3  18   5  18   41\n",
      "4   2   1  11   14\n",
      "5  10   5   3   18\n"
     ]
    }
   ],
   "source": [
    "# 2. Create a Pandas DataFrame with 3 columns and 6 rows filled with random integers. Apply a lambda function to create a new column that is the sum of the existing columns.\n",
    "\n",
    "df = pd.DataFrame(np.random.randint(1,20,size=(6,3)))\n",
    "df['Sum'] = df.sum(axis=1)\n",
    "print(df)"
   ]
  },
  {
   "cell_type": "code",
   "execution_count": 67,
   "id": "6cbe4c48",
   "metadata": {},
   "outputs": [
    {
     "name": "stdout",
     "output_type": "stream",
     "text": [
      "0    orange\n",
      "1     grape\n",
      "2     grape\n",
      "3     grape\n",
      "4     apple\n",
      "dtype: object\n",
      "0    ORANGE\n",
      "1     GRAPE\n",
      "2     GRAPE\n",
      "3     GRAPE\n",
      "4     APPLE\n",
      "dtype: object\n"
     ]
    }
   ],
   "source": [
    "### Assignment 10: Working with Text Data\n",
    "\n",
    "# 1. Create a Pandas Series with 5 random text strings. Convert all the strings to uppercase.\n",
    "words = np.random.choice(['apple','banana','mango','orange','grape'],size=5)\n",
    "s = pd.Series(words)\n",
    "print(s)\n",
    "s_upper = s.str.upper()\n",
    "print(s_upper)"
   ]
  },
  {
   "cell_type": "code",
   "execution_count": 68,
   "id": "9f0d8c30",
   "metadata": {},
   "outputs": [
    {
     "name": "stdout",
     "output_type": "stream",
     "text": [
      "0    app\n",
      "1    gra\n",
      "2    ora\n",
      "3    app\n",
      "4    man\n",
      "dtype: object\n"
     ]
    }
   ],
   "source": [
    "# 2. Create a Pandas Series with 5 random text strings. Extract the first three characters of each string.\n",
    "words = np.random.choice(['apple','banana','mango','orange','grape'],size=5)\n",
    "s = pd.Series(words)\n",
    "first_3 = s.str[:3]\n",
    "print(first_3)"
   ]
  },
  {
   "cell_type": "code",
   "execution_count": null,
   "id": "0ffbc105",
   "metadata": {},
   "outputs": [],
   "source": []
  }
 ],
 "metadata": {
  "kernelspec": {
   "display_name": "Python 3",
   "language": "python",
   "name": "python3"
  },
  "language_info": {
   "codemirror_mode": {
    "name": "ipython",
    "version": 3
   },
   "file_extension": ".py",
   "mimetype": "text/x-python",
   "name": "python",
   "nbconvert_exporter": "python",
   "pygments_lexer": "ipython3",
   "version": "3.12.0"
  }
 },
 "nbformat": 4,
 "nbformat_minor": 5
}
